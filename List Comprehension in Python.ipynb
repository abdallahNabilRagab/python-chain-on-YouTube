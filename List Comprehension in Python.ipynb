{
 "cells": [
  {
   "cell_type": "markdown",
   "id": "81a3e051-b2fb-4cfe-b652-1fc611cdf0a0",
   "metadata": {},
   "source": [
    "# List Comprehension in Python\n",
    "\n",
    "List Comprehension is a concise and direct way to create a new list by iterating over or modifying elements of an existing list or generating a list based on specific conditions. It is more efficient and readable compared to traditional loops.\n",
    "\n",
    "## General Syntax of List Comprehension:\n",
    "```python\n",
    "[expression for item in iterable if condition]\n"
   ]
  },
  {
   "cell_type": "markdown",
   "id": "a1961f67-7112-4a32-973b-800a8cd38836",
   "metadata": {},
   "source": [
    "---"
   ]
  },
  {
   "cell_type": "markdown",
   "id": "ae4efd5a-9149-4412-b029-7cec163c0a48",
   "metadata": {},
   "source": [
    "### Explanation:\n",
    "- expression: The operation performed on each element (e.g., modifying or using the element as is).\n",
    "- for item in iterable: A loop that iterates through all elements in an iterable (like a list, string, or set).\n",
    "- if condition (optional): A condition to decide whether the current element should be included in the list.\n"
   ]
  },
  {
   "cell_type": "markdown",
   "id": "b26bb2c5-6e8d-4427-b638-582fe114a791",
   "metadata": {},
   "source": [
    "---"
   ]
  },
  {
   "cell_type": "markdown",
   "id": "4410b87e-073f-43ab-9445-129844478851",
   "metadata": {},
   "source": [
    "### Why Use List Comprehension?\n",
    "- Ease of writing: Simplifies long loops into a single line.\n",
    "- Code readability: Makes the code more understandable.\n",
    "- Efficiency: Performs better than traditional loops due to internal optimizations.\n"
   ]
  },
  {
   "cell_type": "markdown",
   "id": "88af00e4-2d9f-438c-9fa2-d87ed30760bc",
   "metadata": {},
   "source": [
    "---"
   ]
  },
  {
   "cell_type": "markdown",
   "id": "6c94a1c8-4b00-4320-a758-dc37291d30bc",
   "metadata": {},
   "source": [
    "### Examples of List Comprehension:\n",
    "**1. Creating a List of Numbers:**\n",
    "- Traditional Method:"
   ]
  },
  {
   "cell_type": "code",
   "execution_count": 25,
   "id": "1731c5a6-c98b-4e68-9e41-e0db6576c208",
   "metadata": {},
   "outputs": [
    {
     "name": "stdout",
     "output_type": "stream",
     "text": [
      "[0, 1, 2, 3, 4]\n"
     ]
    }
   ],
   "source": [
    "numbers = []\n",
    "for i in range(5):\n",
    "    numbers.append(i)\n",
    "print(numbers)"
   ]
  },
  {
   "cell_type": "markdown",
   "id": "417e5112-4768-454c-add0-269aa8da7218",
   "metadata": {},
   "source": [
    "- Using List Comprehension:\n"
   ]
  },
  {
   "cell_type": "code",
   "execution_count": 27,
   "id": "d7d09d92-fa08-42c3-9863-b7435fb4ab81",
   "metadata": {},
   "outputs": [
    {
     "name": "stdout",
     "output_type": "stream",
     "text": [
      "[0, 1, 2, 3, 4]\n"
     ]
    }
   ],
   "source": [
    "numbers = [i for i in range(5)]\n",
    "print(numbers)"
   ]
  },
  {
   "cell_type": "markdown",
   "id": "f7b0eee9-6cda-4303-a39c-90976015a55e",
   "metadata": {},
   "source": [
    "**2. Squaring Numbers:**\n",
    "- Traditional Method:"
   ]
  },
  {
   "cell_type": "code",
   "execution_count": 28,
   "id": "de856eba-3ded-4850-926e-4b978ca17ec1",
   "metadata": {},
   "outputs": [
    {
     "name": "stdout",
     "output_type": "stream",
     "text": [
      "[0, 1, 4, 9, 16]\n"
     ]
    }
   ],
   "source": [
    "squares = []\n",
    "for i in range(5):\n",
    "    squares.append(i**2)\n",
    "print(squares)"
   ]
  },
  {
   "cell_type": "markdown",
   "id": "0082b9d6-2671-4da2-959f-6ca20193ffca",
   "metadata": {},
   "source": [
    "- Using List Comprehension:\n",
    "\n"
   ]
  },
  {
   "cell_type": "code",
   "execution_count": 31,
   "id": "d8a68955-e90e-4006-b3c6-762463381711",
   "metadata": {},
   "outputs": [],
   "source": [
    "squares = [i**2 for i in range(5)]"
   ]
  },
  {
   "cell_type": "code",
   "execution_count": 32,
   "id": "65b7e965-c92e-44e0-8b52-57d4685e5444",
   "metadata": {},
   "outputs": [
    {
     "name": "stdout",
     "output_type": "stream",
     "text": [
      "[0, 1, 4, 9, 16]\n"
     ]
    }
   ],
   "source": [
    "print(squares)"
   ]
  },
  {
   "cell_type": "markdown",
   "id": "cbd8474d-8933-4c67-97af-4c4760e3a028",
   "metadata": {},
   "source": [
    "**3. Extracting Values Based on a Condition:**\n",
    "- Traditional Method:"
   ]
  },
  {
   "cell_type": "code",
   "execution_count": 34,
   "id": "18e023f0-7558-43b4-b947-6134ce4e1dee",
   "metadata": {},
   "outputs": [
    {
     "name": "stdout",
     "output_type": "stream",
     "text": [
      "[0, 2, 4, 6, 8]\n"
     ]
    }
   ],
   "source": [
    "even_numbers = []\n",
    "for i in range(10):\n",
    "    if i % 2 == 0:\n",
    "        even_numbers.append(i)\n",
    "print(even_numbers)"
   ]
  },
  {
   "cell_type": "markdown",
   "id": "067cc6fe-0352-4f33-af5e-66c7a0481a41",
   "metadata": {},
   "source": [
    "- Using List Comprehension:\n"
   ]
  },
  {
   "cell_type": "code",
   "execution_count": 36,
   "id": "dfb233ed-e7ed-4e55-ae7c-20920aa9b33c",
   "metadata": {},
   "outputs": [],
   "source": [
    "even_numbers = [i for i in range(20) if i % 2 == 0]"
   ]
  },
  {
   "cell_type": "code",
   "execution_count": 37,
   "id": "352d391a-78ea-4b81-9a0b-a86b0f110132",
   "metadata": {},
   "outputs": [
    {
     "name": "stdout",
     "output_type": "stream",
     "text": [
      "[0, 2, 4, 6, 8, 10, 12, 14, 16, 18]\n"
     ]
    }
   ],
   "source": [
    "print(even_numbers)"
   ]
  },
  {
   "cell_type": "markdown",
   "id": "302c29ff-cef5-483c-8cfe-3f0f52bfbdac",
   "metadata": {},
   "source": [
    "**4. Converting Characters to Uppercase:**\n",
    "- Traditional Method:"
   ]
  },
  {
   "cell_type": "code",
   "execution_count": 38,
   "id": "e343958f-7ad1-44ba-9926-3a04ab3c5d78",
   "metadata": {},
   "outputs": [
    {
     "name": "stdout",
     "output_type": "stream",
     "text": [
      "['H', 'E', 'L', 'L', 'O']\n"
     ]
    }
   ],
   "source": [
    "text = \"hello\"\n",
    "upper_case = []\n",
    "\n",
    "for char in text:\n",
    "    upper_case.append(char.upper())\n",
    "print(upper_case)"
   ]
  },
  {
   "cell_type": "code",
   "execution_count": null,
   "id": "5f3deda4-4f69-4945-a4ec-988c40e817b9",
   "metadata": {},
   "outputs": [],
   "source": []
  },
  {
   "cell_type": "markdown",
   "id": "712ce907-2141-48c4-8ef8-cbfd7278b58e",
   "metadata": {},
   "source": [
    "- Using List Comprehension:\n"
   ]
  },
  {
   "cell_type": "code",
   "execution_count": 39,
   "id": "a6ea6158-6d02-4edb-86fa-7928f3db1c2a",
   "metadata": {},
   "outputs": [],
   "source": [
    "upper_case = [char.upper() for char in text]"
   ]
  },
  {
   "cell_type": "code",
   "execution_count": 40,
   "id": "f4fac7f5-7d6c-4678-8637-5444a34ad2a1",
   "metadata": {},
   "outputs": [
    {
     "name": "stdout",
     "output_type": "stream",
     "text": [
      "['H', 'E', 'L', 'L', 'O']\n"
     ]
    }
   ],
   "source": [
    "print(upper_case)"
   ]
  },
  {
   "cell_type": "markdown",
   "id": "0eae091c-edea-4b91-9468-0ddfeafc6001",
   "metadata": {},
   "source": [
    "**5. Extracting Vowels:**\n",
    "- Traditional Method:"
   ]
  },
  {
   "cell_type": "code",
   "execution_count": 41,
   "id": "70812267-c110-48bb-ac18-b676765f0a52",
   "metadata": {},
   "outputs": [
    {
     "name": "stdout",
     "output_type": "stream",
     "text": [
      "['e', 'o', 'o']\n"
     ]
    }
   ],
   "source": [
    "text = \"Hello World\"\n",
    "vowels = \"aeiou\"\n",
    "found_vowels = []\n",
    "\n",
    "for char in text.lower():\n",
    "    if char in vowels:\n",
    "        found_vowels.append(char)\n",
    "print(found_vowels)"
   ]
  },
  {
   "cell_type": "markdown",
   "id": "b490891a-bab0-4e9d-a072-305917fb371f",
   "metadata": {},
   "source": [
    "- Using List Comprehension:\n"
   ]
  },
  {
   "cell_type": "code",
   "execution_count": 42,
   "id": "7e797358-bce6-4133-866a-03b49f196a6c",
   "metadata": {},
   "outputs": [],
   "source": [
    "found_vowels = [char for char in text.lower() if char in vowels]"
   ]
  },
  {
   "cell_type": "code",
   "execution_count": 43,
   "id": "90860920-1138-43de-9bf1-2e87e2fe32a5",
   "metadata": {},
   "outputs": [
    {
     "name": "stdout",
     "output_type": "stream",
     "text": [
      "['e', 'o', 'o']\n"
     ]
    }
   ],
   "source": [
    "print(found_vowels)"
   ]
  },
  {
   "cell_type": "markdown",
   "id": "48f279ae-8ae1-4f40-b6a6-51510b461ff5",
   "metadata": {},
   "source": [
    "**6. Nested List Comprehension:**"
   ]
  },
  {
   "cell_type": "code",
   "execution_count": 44,
   "id": "321e0420-9d5a-46d9-a306-1d9b8dc5c1c0",
   "metadata": {},
   "outputs": [],
   "source": [
    "multiplication_table = [[i * j for j in range(1, 6)] for i in range(1, 6)]"
   ]
  },
  {
   "cell_type": "code",
   "execution_count": 45,
   "id": "cd3ba188-aad8-4a95-b81b-1b9bcc008bc3",
   "metadata": {},
   "outputs": [
    {
     "name": "stdout",
     "output_type": "stream",
     "text": [
      "[[1, 2, 3, 4, 5], [2, 4, 6, 8, 10], [3, 6, 9, 12, 15], [4, 8, 12, 16, 20], [5, 10, 15, 20, 25]]\n"
     ]
    }
   ],
   "source": [
    "print(multiplication_table)"
   ]
  },
  {
   "cell_type": "markdown",
   "id": "f28eabac-a348-427c-afb8-82294eabbdd6",
   "metadata": {},
   "source": [
    "**7. Text Manipulation:**\n"
   ]
  },
  {
   "cell_type": "code",
   "execution_count": 46,
   "id": "61b0eff3-7924-42f6-84d7-f2b027a87364",
   "metadata": {},
   "outputs": [],
   "source": [
    "# Stripping whitespace from strings\n"
   ]
  },
  {
   "cell_type": "code",
   "execution_count": 48,
   "id": "feef2f4b-8d29-4fa5-8917-39bcb7d0011c",
   "metadata": {},
   "outputs": [
    {
     "name": "stdout",
     "output_type": "stream",
     "text": [
      "['hello', 'world', 'python']\n"
     ]
    }
   ],
   "source": [
    "words = [\"     hello    \", \"world    \", \"     python\"]\n",
    "cleaned_words = [word.strip() for word in words]\n",
    "print(cleaned_words)"
   ]
  },
  {
   "cell_type": "markdown",
   "id": "2f82af37-4a7b-4d6f-be51-d16a486c782e",
   "metadata": {},
   "source": [
    "**Multiple Conditions:**\n"
   ]
  },
  {
   "cell_type": "code",
   "execution_count": 49,
   "id": "b195bd54-a32b-4de5-9c4b-a3c480e26a2f",
   "metadata": {},
   "outputs": [],
   "source": [
    "numbers = [i for i in range(20) if i % 2 == 0 if i % 5 == 0]"
   ]
  },
  {
   "cell_type": "code",
   "execution_count": 50,
   "id": "7731ecd1-98bc-4332-b851-54708f4e5735",
   "metadata": {},
   "outputs": [
    {
     "name": "stdout",
     "output_type": "stream",
     "text": [
      "[0, 10]\n"
     ]
    }
   ],
   "source": [
    "print(numbers)"
   ]
  },
  {
   "cell_type": "markdown",
   "id": "28d955cb-5096-4946-96a8-cd03a1cf5652",
   "metadata": {},
   "source": [
    "**Using Sets and Dictionaries with Comprehensions:**\n",
    "- Set Comprehension:\n",
    "\n"
   ]
  },
  {
   "cell_type": "code",
   "execution_count": 55,
   "id": "95cf3887-9913-4e66-aee5-9ab6e8738a84",
   "metadata": {},
   "outputs": [],
   "source": [
    "unique_chars = {char for char in \"hello world \"}"
   ]
  },
  {
   "cell_type": "code",
   "execution_count": 56,
   "id": "e8041484-f912-4a37-b5b3-d23d440c132b",
   "metadata": {},
   "outputs": [
    {
     "name": "stdout",
     "output_type": "stream",
     "text": [
      "{'h', 'w', 'd', 'l', 'e', 'r', 'o', ' '}\n"
     ]
    }
   ],
   "source": [
    "print(unique_chars)"
   ]
  },
  {
   "cell_type": "markdown",
   "id": "d8d60eb5-231f-4fce-bffe-6315346e96d4",
   "metadata": {},
   "source": [
    "**Dictionary Comprehension:**\n"
   ]
  },
  {
   "cell_type": "code",
   "execution_count": 58,
   "id": "38a82e6f-4e60-4b99-9ae7-46f40d7f076e",
   "metadata": {},
   "outputs": [],
   "source": [
    "squares = {i: i**2 for i in range(5)}"
   ]
  },
  {
   "cell_type": "code",
   "execution_count": 59,
   "id": "3d40a554-0aa6-483a-ae56-1ee3bfe8b5b2",
   "metadata": {},
   "outputs": [
    {
     "name": "stdout",
     "output_type": "stream",
     "text": [
      "{0: 0, 1: 1, 2: 4, 3: 9, 4: 16}\n"
     ]
    }
   ],
   "source": [
    "print(squares)"
   ]
  },
  {
   "cell_type": "code",
   "execution_count": null,
   "id": "17b47fcd-31fe-4568-85cd-d4b00b82bed1",
   "metadata": {},
   "outputs": [],
   "source": []
  },
  {
   "cell_type": "markdown",
   "id": "8ffd78f7-b1b5-4f8e-8c7c-b11217b03113",
   "metadata": {},
   "source": [
    "**Summary:**\n",
    "- List Comprehension is a powerful Python feature for creating lists efficiently and concisely.\n",
    "- It enables you to construct lists based on any condition or operation, resulting in cleaner and more efficient code."
   ]
  },
  {
   "cell_type": "markdown",
   "id": "1653da25-c613-4463-94d8-b7bbb4652087",
   "metadata": {},
   "source": [
    "____"
   ]
  },
  {
   "cell_type": "code",
   "execution_count": null,
   "id": "af590ed4-082f-4811-826e-c594056e72ba",
   "metadata": {},
   "outputs": [],
   "source": []
  }
 ],
 "metadata": {
  "kernelspec": {
   "display_name": "Python (Abdullah)",
   "language": "python",
   "name": "abdullah"
  },
  "language_info": {
   "codemirror_mode": {
    "name": "ipython",
    "version": 3
   },
   "file_extension": ".py",
   "mimetype": "text/x-python",
   "name": "python",
   "nbconvert_exporter": "python",
   "pygments_lexer": "ipython3",
   "version": "3.12.2"
  }
 },
 "nbformat": 4,
 "nbformat_minor": 5
}
