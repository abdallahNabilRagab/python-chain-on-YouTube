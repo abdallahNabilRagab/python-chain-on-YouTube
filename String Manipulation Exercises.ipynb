{
 "cells": [
  {
   "cell_type": "markdown",
   "id": "cd8948d7-095b-4067-af34-b8080ee9f44a",
   "metadata": {},
   "source": [
    "## String Manipulation Exercises\n",
    "### 1. Accessing Characters\n",
    "Task: Given a string, print:\n",
    "\n",
    "- The first character.\n",
    "- The last character.\n",
    "- The character at the middle index (for odd-length strings).\n",
    "- All characters except the first and last."
   ]
  },
  {
   "cell_type": "code",
   "execution_count": 4,
   "id": "f6fa5e0c-3a95-477f-9f45-3854a54fd2ce",
   "metadata": {},
   "outputs": [],
   "source": [
    "name = \"Programming\""
   ]
  },
  {
   "cell_type": "code",
   "execution_count": 14,
   "id": "f2694943-3121-4fc4-88fd-8221c113adbc",
   "metadata": {},
   "outputs": [
    {
     "data": {
      "text/plain": [
       "'P'"
      ]
     },
     "execution_count": 14,
     "metadata": {},
     "output_type": "execute_result"
    }
   ],
   "source": [
    "name[0]"
   ]
  },
  {
   "cell_type": "code",
   "execution_count": 15,
   "id": "27d14ef8-2c02-4eb7-9c4d-068a4514e389",
   "metadata": {},
   "outputs": [
    {
     "data": {
      "text/plain": [
       "'m'"
      ]
     },
     "execution_count": 15,
     "metadata": {},
     "output_type": "execute_result"
    }
   ],
   "source": [
    "name[6]"
   ]
  },
  {
   "cell_type": "code",
   "execution_count": 16,
   "id": "22b70997-c646-463a-b916-1d324596fdbd",
   "metadata": {},
   "outputs": [
    {
     "data": {
      "text/plain": [
       "'a'"
      ]
     },
     "execution_count": 16,
     "metadata": {},
     "output_type": "execute_result"
    }
   ],
   "source": [
    "name[5]"
   ]
  },
  {
   "cell_type": "code",
   "execution_count": 17,
   "id": "f1d7b4ae-75ca-4f1c-acc2-946ac14a8fdd",
   "metadata": {},
   "outputs": [
    {
     "data": {
      "text/plain": [
       "'g'"
      ]
     },
     "execution_count": 17,
     "metadata": {},
     "output_type": "execute_result"
    }
   ],
   "source": [
    "name[-1]"
   ]
  },
  {
   "cell_type": "code",
   "execution_count": 19,
   "id": "2beb6689-e570-45af-9eac-f1b327e1c3aa",
   "metadata": {},
   "outputs": [
    {
     "ename": "SyntaxError",
     "evalue": "invalid syntax (3308434792.py, line 1)",
     "output_type": "error",
     "traceback": [
      "\u001b[1;36m  Cell \u001b[1;32mIn[19], line 1\u001b[1;36m\u001b[0m\n\u001b[1;33m    name[]\u001b[0m\n\u001b[1;37m         ^\u001b[0m\n\u001b[1;31mSyntaxError\u001b[0m\u001b[1;31m:\u001b[0m invalid syntax\n"
     ]
    }
   ],
   "source": [
    "name[]"
   ]
  },
  {
   "cell_type": "code",
   "execution_count": null,
   "id": "63c2ce93-100a-4f34-80bd-5029a0f80c50",
   "metadata": {},
   "outputs": [],
   "source": []
  },
  {
   "cell_type": "code",
   "execution_count": null,
   "id": "e3bce056-e1a2-421d-b883-c6b1a1f4bcb3",
   "metadata": {},
   "outputs": [],
   "source": []
  },
  {
   "cell_type": "markdown",
   "id": "36801da5-9536-48ce-a2fd-fca3514c910d",
   "metadata": {},
   "source": [
    "### 2. Reverse a String\n",
    "- Task: Take a string and print it in reverse order."
   ]
  },
  {
   "cell_type": "code",
   "execution_count": 6,
   "id": "357ba312-9acf-41d1-8526-c97fa9cd24da",
   "metadata": {},
   "outputs": [],
   "source": [
    "text = \"Python\"\n"
   ]
  },
  {
   "cell_type": "code",
   "execution_count": 20,
   "id": "fd63fe47-5936-4f70-aa6b-199d5ff05eb2",
   "metadata": {},
   "outputs": [
    {
     "data": {
      "text/plain": [
       "'Python'"
      ]
     },
     "execution_count": 20,
     "metadata": {},
     "output_type": "execute_result"
    }
   ],
   "source": [
    "text[::]"
   ]
  },
  {
   "cell_type": "code",
   "execution_count": 22,
   "id": "a42cce77-0273-4f41-ab0b-e62844044fb2",
   "metadata": {},
   "outputs": [
    {
     "data": {
      "text/plain": [
       "6"
      ]
     },
     "execution_count": 22,
     "metadata": {},
     "output_type": "execute_result"
    }
   ],
   "source": [
    "len(text) "
   ]
  },
  {
   "cell_type": "code",
   "execution_count": 23,
   "id": "e64d6a96-8351-4d4d-8910-5ed103b3a7c7",
   "metadata": {},
   "outputs": [
    {
     "data": {
      "text/plain": [
       "3"
      ]
     },
     "execution_count": 23,
     "metadata": {},
     "output_type": "execute_result"
    }
   ],
   "source": [
    "len(text) // 2\n"
   ]
  },
  {
   "cell_type": "code",
   "execution_count": 24,
   "id": "d3840175-3d5a-4282-8e1d-93739c4075aa",
   "metadata": {},
   "outputs": [
    {
     "data": {
      "text/plain": [
       "'nohtyP'"
      ]
     },
     "execution_count": 24,
     "metadata": {},
     "output_type": "execute_result"
    }
   ],
   "source": [
    "text[::-1]"
   ]
  },
  {
   "cell_type": "markdown",
   "id": "c4c726bc-6bae-4b54-bb15-6094dcc66119",
   "metadata": {},
   "source": [
    "### 3. Find Specific Characters\n",
    "- Task: Check if a specific character exists in a string and print its index."
   ]
  },
  {
   "cell_type": "code",
   "execution_count": 25,
   "id": "8ccb9515-d96f-43a5-a313-32d94133a984",
   "metadata": {},
   "outputs": [],
   "source": [
    "sentence = \"Welcome to Python programming\"\n"
   ]
  },
  {
   "cell_type": "code",
   "execution_count": 26,
   "id": "bf94fe1b-28d1-443c-9d4a-2d0ab726b800",
   "metadata": {},
   "outputs": [],
   "source": [
    "char = \"o\""
   ]
  },
  {
   "cell_type": "code",
   "execution_count": 27,
   "id": "03bf216f-1a0a-4c53-a298-f287fb27af54",
   "metadata": {},
   "outputs": [
    {
     "name": "stdout",
     "output_type": "stream",
     "text": [
      "'o' is found at index: 4\n"
     ]
    }
   ],
   "source": [
    "if char in sentence:\n",
    "    print(f\"'{char}' is found at index: {sentence.index(char)}\")\n",
    "\n",
    "else:\n",
    "    print(f\"'{char}' is not in the sentence.\")"
   ]
  },
  {
   "cell_type": "code",
   "execution_count": null,
   "id": "feefc7d7-6474-403b-8204-d695041858a5",
   "metadata": {},
   "outputs": [],
   "source": []
  },
  {
   "cell_type": "code",
   "execution_count": 28,
   "id": "e7ca2057-7815-495a-a1fa-014b6179cbc3",
   "metadata": {},
   "outputs": [],
   "source": [
    "char = \"m\""
   ]
  },
  {
   "cell_type": "code",
   "execution_count": 30,
   "id": "b2d9c1bf-8a2e-4b4b-aa83-07ab0f222a17",
   "metadata": {},
   "outputs": [],
   "source": [
    "char = \"n\""
   ]
  },
  {
   "cell_type": "code",
   "execution_count": 31,
   "id": "f71b0f9a-2a2d-4484-a54c-8026e5695d38",
   "metadata": {},
   "outputs": [
    {
     "name": "stdout",
     "output_type": "stream",
     "text": [
      "'n' is found at index: 16\n"
     ]
    }
   ],
   "source": [
    "if char in sentence:\n",
    "    print(f\"'{char}' is found at index: {sentence.index(char)}\")\n",
    "\n",
    "else:\n",
    "    print(f\"'{char}' is not in the sentence.\")"
   ]
  },
  {
   "cell_type": "markdown",
   "id": "6a7c00e2-a611-49cc-8914-213f51307ffa",
   "metadata": {},
   "source": [
    "### 4. Count Occurrences of a Character\n",
    "- Task: Count how many times a specific character appears in a string."
   ]
  },
  {
   "cell_type": "code",
   "execution_count": 32,
   "id": "75ab891e-5d47-49bd-8485-ea8b18f52069",
   "metadata": {},
   "outputs": [],
   "source": [
    "sentence = \"banana\""
   ]
  },
  {
   "cell_type": "code",
   "execution_count": 39,
   "id": "0859f862-2c85-4d3f-9855-da93db836945",
   "metadata": {},
   "outputs": [],
   "source": [
    "char = \"b\""
   ]
  },
  {
   "cell_type": "code",
   "execution_count": 40,
   "id": "ac276550-153d-4cf4-86e3-c3b6f9ec2da7",
   "metadata": {},
   "outputs": [],
   "source": [
    "count = sentence.count(char)"
   ]
  },
  {
   "cell_type": "code",
   "execution_count": 41,
   "id": "3fedfd96-2a06-47bf-af9c-ad8c360e406e",
   "metadata": {},
   "outputs": [
    {
     "data": {
      "text/plain": [
       "1"
      ]
     },
     "execution_count": 41,
     "metadata": {},
     "output_type": "execute_result"
    }
   ],
   "source": [
    "count\n"
   ]
  },
  {
   "cell_type": "code",
   "execution_count": null,
   "id": "48738a0c-8d3d-4718-8b63-61c57df7ed8e",
   "metadata": {},
   "outputs": [],
   "source": []
  },
  {
   "cell_type": "markdown",
   "id": "878f6477-6485-462a-883a-332ba3c470da",
   "metadata": {},
   "source": [
    "### 5. Slice and Print\n",
    "### Task: Extract and print:\n",
    "\n",
    "- The first three characters.\n",
    "- The last three characters.\n",
    "- Every alternate character in the string."
   ]
  },
  {
   "cell_type": "code",
   "execution_count": 42,
   "id": "3e12b00d-62a3-464a-8e86-686a51a8f18f",
   "metadata": {},
   "outputs": [],
   "source": [
    "text = \"Programming\"\n"
   ]
  },
  {
   "cell_type": "code",
   "execution_count": 45,
   "id": "a6794a08-3504-4579-95f7-bd56f5f08595",
   "metadata": {},
   "outputs": [
    {
     "data": {
      "text/plain": [
       "'Programmin'"
      ]
     },
     "execution_count": 45,
     "metadata": {},
     "output_type": "execute_result"
    }
   ],
   "source": [
    "text[0:-1]"
   ]
  },
  {
   "cell_type": "code",
   "execution_count": 46,
   "id": "93c46520-c021-4b16-9bcf-4f08e43ec4e5",
   "metadata": {},
   "outputs": [
    {
     "data": {
      "text/plain": [
       "'Pormig'"
      ]
     },
     "execution_count": 46,
     "metadata": {},
     "output_type": "execute_result"
    }
   ],
   "source": [
    "text[::2]"
   ]
  },
  {
   "cell_type": "code",
   "execution_count": 48,
   "id": "fecc014b-c358-472e-972d-db49c22dad5a",
   "metadata": {},
   "outputs": [],
   "source": [
    "text = \"Python\"\n"
   ]
  },
  {
   "cell_type": "code",
   "execution_count": 49,
   "id": "ec924d0c-f699-4e10-b1cb-c22cad7fe7c7",
   "metadata": {},
   "outputs": [
    {
     "data": {
      "text/plain": [
       "'Pto'"
      ]
     },
     "execution_count": 49,
     "metadata": {},
     "output_type": "execute_result"
    }
   ],
   "source": [
    "text[::2]"
   ]
  },
  {
   "cell_type": "code",
   "execution_count": null,
   "id": "a1c90fa9-7d5b-4374-9527-6922d2d67e4d",
   "metadata": {},
   "outputs": [],
   "source": [
    "text[start:end:step]"
   ]
  },
  {
   "cell_type": "code",
   "execution_count": 50,
   "id": "abbd6d2c-0876-4c9d-af25-dd441b25d283",
   "metadata": {},
   "outputs": [
    {
     "data": {
      "text/plain": [
       "'hon'"
      ]
     },
     "execution_count": 50,
     "metadata": {},
     "output_type": "execute_result"
    }
   ],
   "source": [
    "text[-3:]"
   ]
  },
  {
   "cell_type": "code",
   "execution_count": null,
   "id": "2076a597-d2e0-4e85-ae69-7f46c93366ad",
   "metadata": {},
   "outputs": [],
   "source": []
  },
  {
   "cell_type": "code",
   "execution_count": null,
   "id": "50822d3c-51ea-46bb-be09-938c39566d32",
   "metadata": {},
   "outputs": [],
   "source": []
  },
  {
   "cell_type": "code",
   "execution_count": 47,
   "id": "baa92a04-6f1b-4d91-9b94-e0de2a5cea48",
   "metadata": {},
   "outputs": [
    {
     "data": {
      "text/plain": [
       "'Programming'"
      ]
     },
     "execution_count": 47,
     "metadata": {},
     "output_type": "execute_result"
    }
   ],
   "source": [
    "text[::1]"
   ]
  },
  {
   "cell_type": "markdown",
   "id": "6e55c8fd-f06d-4d03-b9b5-a705dba6660f",
   "metadata": {},
   "source": [
    "### 6. Palindrome Checker\n",
    "- Task: Check if a string is a palindrome (reads the same backward and forward)."
   ]
  },
  {
   "cell_type": "code",
   "execution_count": 51,
   "id": "acae3d06-ddd5-402b-ae70-81080af823f9",
   "metadata": {},
   "outputs": [],
   "source": [
    "word = \"Ahmed\""
   ]
  },
  {
   "cell_type": "code",
   "execution_count": 53,
   "id": "1dc8d6d2-b093-4f88-a323-4815a6521043",
   "metadata": {},
   "outputs": [],
   "source": [
    "word = \"madam\""
   ]
  },
  {
   "cell_type": "code",
   "execution_count": 54,
   "id": "905e337d-0840-421d-93ff-e10f7679771b",
   "metadata": {},
   "outputs": [
    {
     "name": "stdout",
     "output_type": "stream",
     "text": [
      "'madam' is a palindrome.\n"
     ]
    }
   ],
   "source": [
    "if word == word[::-1]:\n",
    "    print(f\"'{word}' is a palindrome.\")\n",
    "else:  \n",
    "    print(f\"'{word}'is not a palindrome.\")"
   ]
  },
  {
   "cell_type": "code",
   "execution_count": null,
   "id": "4a58f9a0-70f5-43e6-8e29-37aa516e86f5",
   "metadata": {},
   "outputs": [],
   "source": []
  }
 ],
 "metadata": {
  "kernelspec": {
   "display_name": "Python (Abdullah)",
   "language": "python",
   "name": "abdullah"
  },
  "language_info": {
   "codemirror_mode": {
    "name": "ipython",
    "version": 3
   },
   "file_extension": ".py",
   "mimetype": "text/x-python",
   "name": "python",
   "nbconvert_exporter": "python",
   "pygments_lexer": "ipython3",
   "version": "3.12.2"
  }
 },
 "nbformat": 4,
 "nbformat_minor": 5
}
