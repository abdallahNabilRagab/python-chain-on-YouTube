{
 "cells": [
  {
   "cell_type": "markdown",
   "id": "832863fc-795b-423d-973f-80505678daef",
   "metadata": {},
   "source": [
    "# -------------------------------\n",
    "# Comprehensive Math Operations and Examples\n",
    "# -------------------------------\n",
    "\n",
    "### Example 1: Basic Arithmetic Operations\n",
    "*Demonstrates addition, subtraction, multiplication, and division*\n",
    "\n",
    "```python\n",
    "print(\"Example 1: Basic Arithmetic Operations\")\n",
    "print(\"3 + 5 * 2 - 8 / 4 =\", 3 + 5 * 2 - 8 / 4)  # Expected Output: 11.0\n",
    "print(\"(3 + 5) * (2 - 8) / 4 =\", (3 + 5) * (2 - 8) / 4)  # Expected Output: -12.0\n",
    "print(\"2**3 + 4 * 2 =\", 2**3 + 4 * 2)  # Expected Output: 16\n"
   ]
  },
  {
   "cell_type": "code",
   "execution_count": 9,
   "id": "c05e8551-d0be-4ddf-a6f2-7817b0a9471c",
   "metadata": {},
   "outputs": [
    {
     "data": {
      "text/plain": [
       "11.0"
      ]
     },
     "execution_count": 9,
     "metadata": {},
     "output_type": "execute_result"
    }
   ],
   "source": [
    "3 + 5 * 2 - 8 / 4 "
   ]
  },
  {
   "cell_type": "code",
   "execution_count": 21,
   "id": "db31bb16-e0d7-4eaa-97ab-ff0524f8017d",
   "metadata": {},
   "outputs": [
    {
     "data": {
      "text/plain": [
       "11"
      ]
     },
     "execution_count": 21,
     "metadata": {},
     "output_type": "execute_result"
    }
   ],
   "source": [
    "10 + 3 - 2"
   ]
  },
  {
   "cell_type": "code",
   "execution_count": 13,
   "id": "3414a93d-1ea5-4731-9a82-b3b5bb140d84",
   "metadata": {},
   "outputs": [
    {
     "name": "stdout",
     "output_type": "stream",
     "text": [
      "Example 1: Basic Arithmetic Operations\n"
     ]
    }
   ],
   "source": [
    "print(\"Example 1: Basic Arithmetic Operations\")"
   ]
  },
  {
   "cell_type": "code",
   "execution_count": 14,
   "id": "0af30724-8873-4f49-b3f1-0a9fac283422",
   "metadata": {},
   "outputs": [
    {
     "name": "stdout",
     "output_type": "stream",
     "text": [
      "(3 + 5) * (2 - 8) / 4 = -12.0\n"
     ]
    }
   ],
   "source": [
    "print(\"(3 + 5) * (2 - 8) / 4 =\", (3 + 5) * (2 - 8) / 4)"
   ]
  },
  {
   "cell_type": "code",
   "execution_count": 20,
   "id": "2a59eaf5-4de8-466a-9de4-6be7a1e5fa4e",
   "metadata": {},
   "outputs": [
    {
     "data": {
      "text/plain": [
       "11.0"
      ]
     },
     "execution_count": 20,
     "metadata": {},
     "output_type": "execute_result"
    }
   ],
   "source": [
    "5 + 4 * 2 - 6 / 3 "
   ]
  },
  {
   "cell_type": "code",
   "execution_count": 10,
   "id": "77304a9a-86d9-44e5-a9ed-e38d2a5aea1c",
   "metadata": {},
   "outputs": [
    {
     "data": {
      "text/plain": [
       "14.0"
      ]
     },
     "execution_count": 10,
     "metadata": {},
     "output_type": "execute_result"
    }
   ],
   "source": [
    "4 + 4 * 3 - 10 / 5 "
   ]
  },
  {
   "cell_type": "code",
   "execution_count": 11,
   "id": "01875413-c571-40d6-ae47-a37dc0f80a40",
   "metadata": {},
   "outputs": [
    {
     "data": {
      "text/plain": [
       "-12.0"
      ]
     },
     "execution_count": 11,
     "metadata": {},
     "output_type": "execute_result"
    }
   ],
   "source": [
    "(3 + 5) * (2 - 8) / 4"
   ]
  },
  {
   "cell_type": "code",
   "execution_count": 22,
   "id": "515653ce-095c-485d-86be-add67885ce55",
   "metadata": {},
   "outputs": [
    {
     "data": {
      "text/plain": [
       "-12.0"
      ]
     },
     "execution_count": 22,
     "metadata": {},
     "output_type": "execute_result"
    }
   ],
   "source": [
    "8 * -6 / 4"
   ]
  },
  {
   "cell_type": "code",
   "execution_count": 12,
   "id": "b02d3f2b-36d8-4449-8efb-d9795684175f",
   "metadata": {},
   "outputs": [
    {
     "data": {
      "text/plain": [
       "16"
      ]
     },
     "execution_count": 12,
     "metadata": {},
     "output_type": "execute_result"
    }
   ],
   "source": [
    "2**3 + 4 * 2"
   ]
  },
  {
   "cell_type": "markdown",
   "id": "fd70861a-d28d-46c1-a4d8-2e550023254a",
   "metadata": {},
   "source": [
    "---------------------------------------- 💙💙💙 ----------------------------------------\n"
   ]
  },
  {
   "cell_type": "markdown",
   "id": "82526ace-f831-41e2-968b-9beff50732c7",
   "metadata": {},
   "source": [
    "---------------------------------------- 💙💙💙 ----------------------------------------\n"
   ]
  },
  {
   "cell_type": "markdown",
   "id": "d462aa5f-bb08-4520-8760-fc8c66144b79",
   "metadata": {},
   "source": [
    "### Example 2: Division and Floor Division  \n",
    "<sub>*Demonstrates regular division and floor division*</sub>\n",
    "\n",
    "```python\n",
    "print(\"\\nExample 2: Division and Floor Division\")\n",
    "print(\"Division: 7 / 2 =\", 7 / 2)  # Expected Output: 3.5\n",
    "print(\"Floor Division: 7 // 2 =\", 7 // 2)  # Expected Output: 3\n"
   ]
  },
  {
   "cell_type": "code",
   "execution_count": 15,
   "id": "5f6b7b4f-be95-4872-a062-659a95675697",
   "metadata": {},
   "outputs": [
    {
     "data": {
      "text/plain": [
       "2.0"
      ]
     },
     "execution_count": 15,
     "metadata": {},
     "output_type": "execute_result"
    }
   ],
   "source": [
    "10 / 5"
   ]
  },
  {
   "cell_type": "code",
   "execution_count": 16,
   "id": "81994fef-73af-461c-8f80-081bdc68bd48",
   "metadata": {},
   "outputs": [
    {
     "data": {
      "text/plain": [
       "3.3333333333333335"
      ]
     },
     "execution_count": 16,
     "metadata": {},
     "output_type": "execute_result"
    }
   ],
   "source": [
    "10 / 3"
   ]
  },
  {
   "cell_type": "code",
   "execution_count": 23,
   "id": "57f089db-e724-4d49-ba90-10f92a109bd3",
   "metadata": {},
   "outputs": [
    {
     "data": {
      "text/plain": [
       "2.0"
      ]
     },
     "execution_count": 23,
     "metadata": {},
     "output_type": "execute_result"
    }
   ],
   "source": [
    "20 / 10 \n"
   ]
  },
  {
   "cell_type": "code",
   "execution_count": 25,
   "id": "58961427-5299-40f5-ac8b-4ea202ac4e10",
   "metadata": {},
   "outputs": [
    {
     "data": {
      "text/plain": [
       "6.666666666666667"
      ]
     },
     "execution_count": 25,
     "metadata": {},
     "output_type": "execute_result"
    }
   ],
   "source": [
    "20 / 3"
   ]
  },
  {
   "cell_type": "code",
   "execution_count": 26,
   "id": "33c5f49d-c05b-45f8-85d4-fa02d73cbc2c",
   "metadata": {},
   "outputs": [
    {
     "data": {
      "text/plain": [
       "6"
      ]
     },
     "execution_count": 26,
     "metadata": {},
     "output_type": "execute_result"
    }
   ],
   "source": [
    "20 // 3"
   ]
  },
  {
   "cell_type": "code",
   "execution_count": 17,
   "id": "18f268c8-8616-4914-8710-dccfb39ba3e7",
   "metadata": {},
   "outputs": [
    {
     "data": {
      "text/plain": [
       "3"
      ]
     },
     "execution_count": 17,
     "metadata": {},
     "output_type": "execute_result"
    }
   ],
   "source": [
    "10 // 3"
   ]
  },
  {
   "cell_type": "markdown",
   "id": "098b729e-c8a0-44be-b593-fc59977111bb",
   "metadata": {},
   "source": [
    "\n",
    "### Detailed Breakdown:\n",
    "- **Regular Division (`/`)**: This operator is commonly used for exact, precise divisions where the result may include a fraction. Even when dividing whole numbers, it returns the result as a floating-point number.\n",
    "  \n",
    "- **Floor Division (`//`)**: Useful when you only care about the whole number part of the division and don't want to keep any decimal fraction. It rounds the result down (towards negative infinity), which can be especially useful when working with index calculations or partitioning.\n",
    "\n"
   ]
  },
  {
   "cell_type": "markdown",
   "id": "7c5e7232-8c21-4795-b4df-3257c3866a85",
   "metadata": {},
   "source": [
    "---------------------------------------- 💙💙💙 ----------------------------------------\n"
   ]
  },
  {
   "cell_type": "markdown",
   "id": "e1d3834d-bbfa-46cd-8251-eb67d828539e",
   "metadata": {},
   "source": [
    "---------------------------------------- 💙💙💙 ----------------------------------------\n"
   ]
  },
  {
   "cell_type": "markdown",
   "id": "c21e4a2e-db86-48ac-9a3d-e43d0f572b9c",
   "metadata": {},
   "source": [
    "### Example 3: Modulus and Exponentiation  \n",
    "<sub>*Demonstrates modulus operation and exponentiation*</sub>\n",
    "\n",
    "```python\n",
    "print(\"\\nExample 3: Modulus and Exponentiation\")\n",
    "print(\"Modulus: 10 % 3 =\", 10 % 3)  # Expected Output: 1\n",
    "print(\"Exponentiation: 2**3 =\", 2**3)  # Expected Output: 8\n"
   ]
  },
  {
   "cell_type": "code",
   "execution_count": 18,
   "id": "3f86172c-e6fb-44ec-b83c-fc27e5c6cf1a",
   "metadata": {},
   "outputs": [
    {
     "data": {
      "text/plain": [
       "0"
      ]
     },
     "execution_count": 18,
     "metadata": {},
     "output_type": "execute_result"
    }
   ],
   "source": [
    "12 % 4"
   ]
  },
  {
   "cell_type": "code",
   "execution_count": 19,
   "id": "033ee3d1-ded8-4ebe-a90c-2f312a097c9d",
   "metadata": {},
   "outputs": [
    {
     "data": {
      "text/plain": [
       "27"
      ]
     },
     "execution_count": 19,
     "metadata": {},
     "output_type": "execute_result"
    }
   ],
   "source": [
    "3** 3"
   ]
  },
  {
   "cell_type": "code",
   "execution_count": null,
   "id": "bbdb453e-cffc-4c70-bad3-d290dbcd6141",
   "metadata": {},
   "outputs": [],
   "source": [
    "10 - (3 * 3) = 10 - 9 = 1"
   ]
  },
  {
   "cell_type": "code",
   "execution_count": 27,
   "id": "af12c648-53a9-45ad-a1e8-69caf00780fd",
   "metadata": {},
   "outputs": [
    {
     "data": {
      "text/plain": [
       "2"
      ]
     },
     "execution_count": 27,
     "metadata": {},
     "output_type": "execute_result"
    }
   ],
   "source": [
    "14 % 6 "
   ]
  },
  {
   "cell_type": "code",
   "execution_count": 28,
   "id": "d0772792-7c89-425f-b3a6-57e3a28c593b",
   "metadata": {},
   "outputs": [
    {
     "data": {
      "text/plain": [
       "2"
      ]
     },
     "execution_count": 28,
     "metadata": {},
     "output_type": "execute_result"
    }
   ],
   "source": [
    "20 % 3 "
   ]
  },
  {
   "cell_type": "markdown",
   "id": "70de909e-e59b-4f12-9e95-10cab49baf95",
   "metadata": {},
   "source": [
    "\n",
    "### Explanation:\n",
    "- **Modulus (`%`)**: Useful for finding the remainder in division operations.\n",
    "- **Exponentiation (`**`)**: Calculates powers and is evaluated before other arithmetic operations in expressions.\n"
   ]
  },
  {
   "cell_type": "markdown",
   "id": "ab5694db-5104-4bad-87ac-04b840d9fce7",
   "metadata": {},
   "source": [
    "---------------------------------------- 💙💙💙 ----------------------------------------\n"
   ]
  },
  {
   "cell_type": "markdown",
   "id": "dec44a99-3329-4553-aeb0-3d2b2a92b7d6",
   "metadata": {},
   "source": [
    "---------------------------------------- 💙💙💙 ----------------------------------------\n"
   ]
  },
  {
   "cell_type": "markdown",
   "id": "88c02bd3-97d2-4196-8e62-f4c35126c9df",
   "metadata": {},
   "source": [
    "### Example 4: Combining Operations  \n",
    "<sub>*Demonstrates combining multiple arithmetic operations in one expression*</sub>\n",
    "\n",
    "```python\n",
    "print(\"\\nExample 4: Combining Operations\")\n",
    "print(\"(5 + 3) / (2 * 2) + 4 =\", (5 + 3) / (2 * 2) + 4)  # Expected Output: 6.0\n",
    "print(\"15 // (2 + 3) * 4 =\", 15 // (2 + 3) * 4)  # Expected Output: 12\n"
   ]
  },
  {
   "cell_type": "code",
   "execution_count": 29,
   "id": "3ca7c4e4-1631-4716-a8d7-be00cf8140ae",
   "metadata": {},
   "outputs": [
    {
     "data": {
      "text/plain": [
       "6.0"
      ]
     },
     "execution_count": 29,
     "metadata": {},
     "output_type": "execute_result"
    }
   ],
   "source": [
    "(5 + 3) / (2 * 2) + 4"
   ]
  },
  {
   "cell_type": "code",
   "execution_count": 30,
   "id": "1c03a255-c177-4cd3-a28e-d897c2906bf5",
   "metadata": {},
   "outputs": [
    {
     "name": "stdout",
     "output_type": "stream",
     "text": [
      "(5 + 3) / (2 * 2) + 4 = 6.0\n"
     ]
    }
   ],
   "source": [
    "print(\"(5 + 3) / (2 * 2) + 4 =\", (5 + 3) / (2 * 2) + 4)"
   ]
  },
  {
   "cell_type": "code",
   "execution_count": 31,
   "id": "cf3cb04d-805c-4e9a-8ba7-47c1c5b35906",
   "metadata": {},
   "outputs": [
    {
     "data": {
      "text/plain": [
       "12"
      ]
     },
     "execution_count": 31,
     "metadata": {},
     "output_type": "execute_result"
    }
   ],
   "source": [
    "15 // (2 + 3) * 4"
   ]
  },
  {
   "cell_type": "markdown",
   "id": "1b045c20-4683-48a2-96a1-d51479c2f872",
   "metadata": {},
   "source": [
    "\n",
    "### Explanation:\n",
    "- **Parentheses**: Always evaluated first to control the order of operations.\n",
    "- **Floor Division (`//`)**: Used to divide and return an integer result, ignoring any remainder.\n"
   ]
  },
  {
   "cell_type": "markdown",
   "id": "08e97744-395a-48a1-9286-3a765d274055",
   "metadata": {},
   "source": [
    "---------------------------------------- 💙💙💙 ----------------------------------------\n"
   ]
  },
  {
   "cell_type": "markdown",
   "id": "9bb0ff40-02a5-4713-b235-a5e6eca46ebb",
   "metadata": {},
   "source": [
    "---------------------------------------- 💙💙💙 ----------------------------------------\n"
   ]
  },
  {
   "cell_type": "markdown",
   "id": "2fa26fc0-0206-4967-a8ce-e1d53e948c75",
   "metadata": {},
   "source": [
    "### Example 5: Handling Zero Division Error  \n",
    "<sub>*Demonstrates how to handle division by zero using try-except block*</sub>\n",
    "\n",
    "```python\n",
    "print(\"\\nExample 5: Handling Zero Division Error\")\n",
    "try:\n",
    "    print(\"10 / (5 - 5) =\", 10 / (5 - 5))  # Division by zero example\n",
    "except ZeroDivisionError:\n",
    "    print(\"Error: Division by Zero is not allowed.\")\n"
   ]
  },
  {
   "cell_type": "code",
   "execution_count": 33,
   "id": "f334d84e-da49-4cd0-a539-8827fb814eb8",
   "metadata": {},
   "outputs": [
    {
     "name": "stdout",
     "output_type": "stream",
     "text": [
      "Error: Division by Zero is not allowed.\n"
     ]
    }
   ],
   "source": [
    "try:\n",
    "    print(\"10 / (5 - 5) =\" , 10 / (5 - 5))\n",
    "except ZeroDivisionError:\n",
    "    print(\"Error: Division by Zero is not allowed.\")\n",
    "    "
   ]
  },
  {
   "cell_type": "code",
   "execution_count": 32,
   "id": "6b203994-8a40-4820-9588-24dfde98a8ba",
   "metadata": {},
   "outputs": [
    {
     "ename": "ZeroDivisionError",
     "evalue": "division by zero",
     "output_type": "error",
     "traceback": [
      "\u001b[1;31m---------------------------------------------------------------------------\u001b[0m",
      "\u001b[1;31mZeroDivisionError\u001b[0m                         Traceback (most recent call last)",
      "Cell \u001b[1;32mIn[32], line 1\u001b[0m\n\u001b[1;32m----> 1\u001b[0m \u001b[38;5;241m10\u001b[39m \u001b[38;5;241m/\u001b[39m (\u001b[38;5;241m5\u001b[39m \u001b[38;5;241m-\u001b[39m \u001b[38;5;241m5\u001b[39m)\n",
      "\u001b[1;31mZeroDivisionError\u001b[0m: division by zero"
     ]
    }
   ],
   "source": [
    "10 / (5 - 5)"
   ]
  },
  {
   "cell_type": "code",
   "execution_count": null,
   "id": "7ad23213-6dbc-4ca0-b983-721bbe04c7a6",
   "metadata": {},
   "outputs": [],
   "source": []
  },
  {
   "cell_type": "code",
   "execution_count": null,
   "id": "f51536d2-5d08-4aa2-8bdb-0e5df3869856",
   "metadata": {},
   "outputs": [],
   "source": []
  },
  {
   "cell_type": "markdown",
   "id": "67f07720-1985-4114-87ee-bd7d7a573909",
   "metadata": {},
   "source": [
    "\n",
    "### Explanation:\n",
    "- **ZeroDivisionError**: This is a built-in exception raised when a division by zero occurs.\n",
    "- **`try-except` Block**: Used to handle errors and exceptions in Python, ensuring that your program doesn't crash unexpectedly.\n"
   ]
  },
  {
   "cell_type": "markdown",
   "id": "a800d499-705b-4e98-86c9-9f8347693feb",
   "metadata": {},
   "source": [
    "---------------------------------------- 💙💙💙 ----------------------------------------\n"
   ]
  },
  {
   "cell_type": "markdown",
   "id": "96cefcdb-a1cf-4e93-8cbb-c5d9b5b867df",
   "metadata": {},
   "source": [
    "---------------------------------------- 💙💙💙 ----------------------------------------\n"
   ]
  },
  {
   "cell_type": "markdown",
   "id": "356f7925-887e-41f5-960a-0b1b6f4346a9",
   "metadata": {},
   "source": [
    "### Example 6: Logical Operations  \n",
    "<sub>*Demonstrates the use of logical operators (`and`, `or`) with arithmetic expressions*</sub>\n",
    "\n",
    "```python\n",
    "print(\"\\nExample 6: Logical Operations\")\n",
    "print(\"(5 > 3) and (2 < 4) =\", (5 > 3) and (2 < 4))  # Expected Output: True\n",
    "print(\"(3 + 2 == 5) or (10 / 2 == 6) =\", (3 + 2 == 5) or (10 / 2 == 6))  # Expected Output: True\n"
   ]
  },
  {
   "cell_type": "code",
   "execution_count": 34,
   "id": "c9dc8ab2-b99c-4743-9d19-8aa95dfe193d",
   "metadata": {},
   "outputs": [
    {
     "data": {
      "text/plain": [
       "True"
      ]
     },
     "execution_count": 34,
     "metadata": {},
     "output_type": "execute_result"
    }
   ],
   "source": [
    "(5 > 3) and (2 < 4)"
   ]
  },
  {
   "cell_type": "code",
   "execution_count": 35,
   "id": "20c9157a-9850-412a-8ca0-77a84217c3b2",
   "metadata": {},
   "outputs": [
    {
     "data": {
      "text/plain": [
       "False"
      ]
     },
     "execution_count": 35,
     "metadata": {},
     "output_type": "execute_result"
    }
   ],
   "source": [
    "(5 > 3) and (6 < 4)"
   ]
  },
  {
   "cell_type": "code",
   "execution_count": 36,
   "id": "277e7385-05e6-4f59-a3f9-ba00b9839cd6",
   "metadata": {},
   "outputs": [
    {
     "data": {
      "text/plain": [
       "True"
      ]
     },
     "execution_count": 36,
     "metadata": {},
     "output_type": "execute_result"
    }
   ],
   "source": [
    "(5 > 3) or (6 < 4)"
   ]
  },
  {
   "cell_type": "code",
   "execution_count": null,
   "id": "3a83bd92-66c9-468a-b780-1aad0678a6a7",
   "metadata": {},
   "outputs": [],
   "source": []
  },
  {
   "cell_type": "code",
   "execution_count": null,
   "id": "e16a1edf-256c-4a04-b1ea-a1d6d851a530",
   "metadata": {},
   "outputs": [],
   "source": []
  },
  {
   "cell_type": "markdown",
   "id": "763781ee-9f9f-41a7-a08d-d884feb8f0b0",
   "metadata": {},
   "source": [
    "### Explanation for Example 6: Logical Operations\n",
    "\n",
    "1. **First Expression**: `(5 > 3) and (2 < 4)`\n",
    "   - **First Condition**: `(5 > 3)` is `True` because 5 is greater than 3.\n",
    "   - **Second Condition**: `(2 < 4)` is also `True` because 2 is less than 4.\n",
    "   - The `and` operator returns `True` when both conditions are `True`.\n",
    "\n",
    "2. **Second Expression**: `(3 + 2 == 5) or (10 / 2 == 6)`\n",
    "   - **First Condition**: `(3 + 2 == 5)` is `True` because 3 + 2 equals 5.\n",
    "   - **Second Condition**: `(10 / 2 == 6)` is `False` because 10 divided by 2 equals 5, not 6.\n",
    "   - The `or` operator returns `True` if at least one condition is `True`, so the result is `True` because the first condition is `True`.\n"
   ]
  },
  {
   "cell_type": "markdown",
   "id": "f3a8953a-2d42-4a57-a2d7-0eef65b19982",
   "metadata": {},
   "source": [
    "---------------------------------------- 💙💙💙 ----------------------------------------\n"
   ]
  },
  {
   "cell_type": "markdown",
   "id": "fb470644-e2f7-4ca2-a5f4-f3668f3af76e",
   "metadata": {},
   "source": [
    "---------------------------------------- 💙💙💙 ----------------------------------------\n"
   ]
  },
  {
   "cell_type": "markdown",
   "id": "6c9b10eb-5af9-43ce-8e21-d731be6f1ac8",
   "metadata": {},
   "source": [
    "### Example 7: Nested Parentheses\n",
    "Demonstrates the use of parentheses within parentheses to control operation order.\n",
    "\n",
    "#### Code Example:\n",
    "\n",
    "```python\n",
    "# Example 7: Nested Parentheses\n",
    "# Demonstrates the use of parentheses within parentheses to control operation order\n",
    "\n",
    "print(\"\\nExample 7: Nested Parentheses\")\n",
    "\n",
    "# Example 1: Basic nested parentheses\n",
    "# Step 1: (3 + 5) = 8, Step 2: 8 * 2 = 16, Step 3: 16 / (4 - 2) = 16 / 2 = 8.0\n",
    "print(\"((3 + 5) * 2) / (4 - 2) =\", ((3 + 5) * 2) / (4 - 2))  # Expected Output: 8.0\n",
    "\n",
    "# Example 2: More complex nesting\n",
    "# Step 1: (10 - 5) = 5, Step 2: (2 * 3) = 6, Step 3: 5 + 6 = 11, Step 4: 11 / 2 = 5.5\n",
    "print(\"((10 - 5) + (2 * 3)) / 2 =\", ((10 - 5) + (2 * 3)) / 2)  # Expected Output: 5.5\n",
    "\n",
    "# Example 3: Nested addition and subtraction\n",
    "# Step 1: (2 + 3) = 5, Step 2: (7 - 5) = 2, Step 3: 5 - 2 = 3\n",
    "print(\"((2 + 3) - (7 - 5)) =\", ((2 + 3) - (7 - 5)))  # Expected Output: 3\n"
   ]
  },
  {
   "cell_type": "code",
   "execution_count": 42,
   "id": "f4d4f015-9f31-4f72-ae74-6afde21040f6",
   "metadata": {},
   "outputs": [
    {
     "data": {
      "text/plain": [
       "5.5"
      ]
     },
     "execution_count": 42,
     "metadata": {},
     "output_type": "execute_result"
    }
   ],
   "source": [
    "((10 - 5) + (2 * 3)) / 2"
   ]
  },
  {
   "cell_type": "code",
   "execution_count": 44,
   "id": "0eb88c1d-d014-440b-84dc-5fa123fcc05d",
   "metadata": {},
   "outputs": [
    {
     "data": {
      "text/plain": [
       "3"
      ]
     },
     "execution_count": 44,
     "metadata": {},
     "output_type": "execute_result"
    }
   ],
   "source": [
    "((2 + 3) - (7 - 5))"
   ]
  },
  {
   "cell_type": "code",
   "execution_count": 45,
   "id": "37a2e4bc-3d24-44ef-83fe-df77db9483d0",
   "metadata": {},
   "outputs": [
    {
     "data": {
      "text/plain": [
       "False"
      ]
     },
     "execution_count": 45,
     "metadata": {},
     "output_type": "execute_result"
    }
   ],
   "source": [
    "((2 >= 3) & (7 >= 5))"
   ]
  },
  {
   "cell_type": "code",
   "execution_count": null,
   "id": "fa26d7dd-a629-4a4b-a8df-1d1b42934223",
   "metadata": {},
   "outputs": [],
   "source": []
  },
  {
   "cell_type": "code",
   "execution_count": null,
   "id": "b7f137dc-344a-4adc-bbb8-a6de30edac67",
   "metadata": {},
   "outputs": [],
   "source": []
  },
  {
   "cell_type": "code",
   "execution_count": null,
   "id": "c5e94381-3ae0-4993-b3de-e5c15870d3f6",
   "metadata": {},
   "outputs": [],
   "source": []
  },
  {
   "cell_type": "code",
   "execution_count": 43,
   "id": "4e1a6a9f-f311-431f-a675-184d3c83988c",
   "metadata": {},
   "outputs": [
    {
     "data": {
      "text/plain": [
       "5"
      ]
     },
     "execution_count": 43,
     "metadata": {},
     "output_type": "execute_result"
    }
   ],
   "source": [
    "((10 - 5) + (2 * 3)) // 2"
   ]
  },
  {
   "cell_type": "code",
   "execution_count": 40,
   "id": "b1cc0627-e2aa-461d-afe4-eae59596346d",
   "metadata": {},
   "outputs": [
    {
     "data": {
      "text/plain": [
       "8.0"
      ]
     },
     "execution_count": 40,
     "metadata": {},
     "output_type": "execute_result"
    }
   ],
   "source": [
    "((3 + 5) * 2) / (4 - 2)"
   ]
  },
  {
   "cell_type": "code",
   "execution_count": 41,
   "id": "90b1401a-1bf4-44ec-a809-f486ed0106ba",
   "metadata": {},
   "outputs": [
    {
     "name": "stdout",
     "output_type": "stream",
     "text": [
      "((3 + 5) * 2) / (4 - 2) = 8.0\n"
     ]
    }
   ],
   "source": [
    "print(\"((3 + 5) * 2) / (4 - 2) =\", ((3 + 5) * 2) / (4 - 2))"
   ]
  },
  {
   "cell_type": "code",
   "execution_count": null,
   "id": "201ba9fa-d4bc-42ec-bd8d-0e115aacdeac",
   "metadata": {},
   "outputs": [],
   "source": []
  },
  {
   "cell_type": "markdown",
   "id": "5401c68b-cf06-4230-a7ad-66669345f04a",
   "metadata": {},
   "source": [
    "### Explanation for Example 7: Nested Parentheses\n",
    "\n",
    "1. **Expression**: `((3 + 5) * 2) / (4 - 2)`\n",
    "   - **First Step**: Calculate `(3 + 5)` which equals `8`.\n",
    "   - **Second Step**: Multiply the result by `2`: `8 * 2` equals `16`.\n",
    "   - **Third Step**: Calculate the denominator `(4 - 2)` which equals `2`.\n",
    "   - **Final Step**: Divide the numerator by the denominator: `16 / 2` equals `8.0`.\n",
    "\n",
    "2. **Expression**: `((10 - 5) + (2 * 3)) / 2`\n",
    "   - **First Step**: Calculate the expression `(10 - 5)` which equals `5`.\n",
    "   - **Second Step**: Calculate `(2 * 3)` which equals `6`.\n",
    "   - **Third Step**: Add the two results: `5 + 6` equals `11`.\n",
    "   - **Final Step**: Divide the result by `2`: `11 / 2` equals `5.5`.\n",
    "\n",
    "3. **Expression**: `((2 + 3) - (7 - 5))`\n",
    "   - **First Step**: Calculate `(2 + 3)` which equals `5`.\n",
    "   - **Second Step**: Calculate `(7 - 5)` which equals `2`.\n",
    "   - **Final Step**: Subtract the second result from the first: `5 - 2` equals `3`.\n",
    "\n"
   ]
  },
  {
   "cell_type": "markdown",
   "id": "0a682cd4-94f4-41e5-ad0f-739ee559fa16",
   "metadata": {},
   "source": [
    "---------------------------------------- 💙💙💙 ----------------------------------------\n"
   ]
  },
  {
   "cell_type": "markdown",
   "id": "02b419f6-1c97-484a-9c9f-bd0842ce91eb",
   "metadata": {},
   "source": [
    "---------------------------------------- 💙💙💙 ----------------------------------------\n"
   ]
  },
  {
   "cell_type": "markdown",
   "id": "9b7ad7c0-28cf-484f-bfbd-fff92bb2f20c",
   "metadata": {},
   "source": [
    "### Example 8: Increment and Decrement Simulations\n",
    "```python\n",
    "print(\"\\nExample 8: Increment and Decrement Simulations\")\n",
    "x = 10\n",
    "x += 5  # Increment by 5\n",
    "print(\"Increment by 5:\", x)  # Expected Output: 15\n",
    "x -= 3  # Decrement by 3\n",
    "print(\"Decrement by 3:\", x)  # Expected Output: 12\n",
    "x *= 2  # Multiply by 2\n",
    "print(\"Multiply by 2:\", x)  # Expected Output: 24\n",
    "x //= 4  # Floor divide by 4\n",
    "print(\"Floor Division and Assign:\", x)  # Expected Output: 6\n"
   ]
  },
  {
   "cell_type": "code",
   "execution_count": 46,
   "id": "ba4775ee-4e31-488f-94b0-ef7eb8ecbc70",
   "metadata": {},
   "outputs": [],
   "source": [
    "x = 10\n"
   ]
  },
  {
   "cell_type": "code",
   "execution_count": 47,
   "id": "39a44800-52d6-4db0-80a7-e9487137ab83",
   "metadata": {},
   "outputs": [],
   "source": [
    "x += 5"
   ]
  },
  {
   "cell_type": "code",
   "execution_count": 49,
   "id": "7c54df5d-7625-449c-8318-d6217704d563",
   "metadata": {},
   "outputs": [],
   "source": [
    "x = x + 5"
   ]
  },
  {
   "cell_type": "code",
   "execution_count": 50,
   "id": "3b4f3257-7d94-464f-a12d-b592ae708daa",
   "metadata": {},
   "outputs": [
    {
     "data": {
      "text/plain": [
       "20"
      ]
     },
     "execution_count": 50,
     "metadata": {},
     "output_type": "execute_result"
    }
   ],
   "source": [
    "x"
   ]
  },
  {
   "cell_type": "code",
   "execution_count": 51,
   "id": "a033a077-230c-4f12-aaf3-14722c71f790",
   "metadata": {},
   "outputs": [],
   "source": [
    "x -= 3"
   ]
  },
  {
   "cell_type": "code",
   "execution_count": 52,
   "id": "a8a04f85-2a64-4eeb-9028-9094525dfa7d",
   "metadata": {},
   "outputs": [
    {
     "data": {
      "text/plain": [
       "17"
      ]
     },
     "execution_count": 52,
     "metadata": {},
     "output_type": "execute_result"
    }
   ],
   "source": [
    "x"
   ]
  },
  {
   "cell_type": "code",
   "execution_count": 53,
   "id": "8cf3dd32-7c88-46fb-b71e-00798905786f",
   "metadata": {},
   "outputs": [],
   "source": [
    "x = x - 3"
   ]
  },
  {
   "cell_type": "code",
   "execution_count": 54,
   "id": "d089f275-e464-4fb6-820d-a5d2e1df78c9",
   "metadata": {},
   "outputs": [
    {
     "data": {
      "text/plain": [
       "14"
      ]
     },
     "execution_count": 54,
     "metadata": {},
     "output_type": "execute_result"
    }
   ],
   "source": [
    "x"
   ]
  },
  {
   "cell_type": "code",
   "execution_count": null,
   "id": "7690e3fa-f517-49ef-8188-2daf19acab92",
   "metadata": {},
   "outputs": [],
   "source": []
  },
  {
   "cell_type": "code",
   "execution_count": null,
   "id": "c60efdfd-312c-4b78-a001-4a106b0f60dc",
   "metadata": {},
   "outputs": [],
   "source": []
  },
  {
   "cell_type": "markdown",
   "id": "6f8df606-79a8-4c43-a084-6c709622cd52",
   "metadata": {},
   "source": [
    "### Explanation for Example 8: Increment and Decrement Simulations\n",
    "\n",
    "1. **Expression**: `x += 5` (Increment by 5)\n",
    "   - **First Step**: Initialize `x = 10`.\n",
    "   - **Second Step**: Increment `x` by 5 using the `+=` operator: `x = 10 + 5`.\n",
    "   - **Result**: `x = 15`.\n",
    "   - **Output**: `Increment by 5: 15`.\n",
    "\n",
    "2. **Expression**: `x -= 3` (Decrement by 3)\n",
    "   - **First Step**: `x = 15` (from previous step).\n",
    "   - **Second Step**: Decrement `x` by 3 using the `-=` operator: `x = 15 - 3`.\n",
    "   - **Result**: `x = 12`.\n",
    "   - **Output**: `Decrement by 3: 12`.\n",
    "\n",
    "3. **Expression**: `x *= 2` (Multiply by 2)\n",
    "   - **First Step**: `x = 12` (from previous step).\n",
    "   - **Second Step**: Multiply `x` by 2 using the `*=` operator: `x = 12 * 2`.\n",
    "   - **Result**: `x = 24`.\n",
    "   - **Output**: `Multiply by 2: 24`.\n",
    "\n",
    "4. **Expression**: `x //= 4` (Floor divide by 4)\n",
    "   - **First Step**: `x = 24` (from previous step).\n",
    "   - **Second Step**: Floor divide `x` by 4 using the `//=` operator: `x = 24 // 4`.\n",
    "   - **Result**: `x = 6`.\n",
    "   - **Output**: `Floor Division and Assign: 6`.\n"
   ]
  },
  {
   "cell_type": "markdown",
   "id": "d05517c8-15e7-4b30-96a3-19f9e34bc0d2",
   "metadata": {},
   "source": [
    "---------------------------------------- 💙💙💙 ----------------------------------------\n"
   ]
  },
  {
   "cell_type": "markdown",
   "id": "773fa7a9-a968-4cbf-92d5-6dc08e473c2c",
   "metadata": {},
   "source": [
    "---------------------------------------- 💙💙💙 ----------------------------------------\n"
   ]
  },
  {
   "cell_type": "markdown",
   "id": "f7156de9-9f07-4c16-a87a-2ec50ff18a6b",
   "metadata": {},
   "source": [
    "### Example 9: Complex Operations\n",
    "```python\n",
    "print(\"\\nExample 9: Complex Operations\")\n",
    "print(\"(3 + 5) * 2 - (10 / 5) + 4**2 =\", (3 + 5) * 2 - (10 / 5) + 4**2)  # Expected Output: 30.0\n",
    "print(\"(6 % 4 + 3 * (8 // 4)) - 2**2 =\", (6 % 4 + 3 * (8 // 4)) - 2**2)  # Expected Output: 7\n"
   ]
  },
  {
   "cell_type": "code",
   "execution_count": null,
   "id": "30d1685b-1bc8-44cf-8689-71b48ed7ab75",
   "metadata": {},
   "outputs": [],
   "source": [
    "(3 + 5) * 2 - (10 / 5) + 4**2"
   ]
  },
  {
   "cell_type": "code",
   "execution_count": 55,
   "id": "0f476b50-c4a5-40c8-85aa-0139b7ef1088",
   "metadata": {},
   "outputs": [
    {
     "data": {
      "text/plain": [
       "30"
      ]
     },
     "execution_count": 55,
     "metadata": {},
     "output_type": "execute_result"
    }
   ],
   "source": [
    "(8) * 2 -(2) + 4**2"
   ]
  },
  {
   "cell_type": "code",
   "execution_count": 56,
   "id": "e030e25c-5e5a-459e-857d-43ac500a760e",
   "metadata": {},
   "outputs": [
    {
     "name": "stdout",
     "output_type": "stream",
     "text": [
      "(3 + 5) * 2 - (10 / 5) + 4**2 = 30.0\n"
     ]
    }
   ],
   "source": [
    "print(\"(3 + 5) * 2 - (10 / 5) + 4**2 =\", (3 + 5) * 2 - (10 / 5) + 4**2)"
   ]
  },
  {
   "cell_type": "markdown",
   "id": "6fa7b926-d652-4e79-98cc-317f17c00b20",
   "metadata": {},
   "source": [
    "### Explanation for Example 9: Complex Operations\n",
    "\n",
    "1. **Expression**: `(3 + 5) * 2 - (10 / 5) + 4**2`\n",
    "   - **First Step**: Calculate `(3 + 5)` which equals `8`.\n",
    "   - **Second Step**: Multiply the result by `2`: `8 * 2` equals `16`.\n",
    "   - **Third Step**: Divide `10` by `5`: `10 / 5` equals `2.0`.\n",
    "   - **Fourth Step**: Calculate `4**2`, which is `16`.\n",
    "   - **Final Step**: Combine the results: `16 - 2.0 + 16 = 31.0`.\n",
    "\n",
    "2. **Expression**: `(6 % 4 + 3 * (8 // 4)) - 2**2`\n",
    "   - **First Step**: Calculate the modulus `6 % 4`, which equals `2`.\n",
    "   - **Second Step**: Perform integer division `8 // 4`, which equals `2`.\n",
    "   - **Third Step**: Multiply `3 * 2`, which equals `6`.\n",
    "   - **Fourth Step**: Add the results from the first and second steps: `2 + 6 = 8`.\n",
    "   - **Fifth Step**: Calculate `2**2`, which equals `4`.\n",
    "   - **Final Step**: Subtract the square of `2`: `8 - 4 = 7`.\n"
   ]
  },
  {
   "cell_type": "markdown",
   "id": "c96f4f8f-72d5-4055-87eb-42e55088e50c",
   "metadata": {},
   "source": [
    "---------------------------------------- 💙💙💙 ----------------------------------------\n"
   ]
  },
  {
   "cell_type": "markdown",
   "id": "ffa7b924-d83a-4f95-b745-e1414e1be928",
   "metadata": {},
   "source": [
    "---------------------------------------- 💙💙💙 ----------------------------------------\n"
   ]
  },
  {
   "cell_type": "markdown",
   "id": "72459e72-d2f6-4b6d-bed6-9b0f05492487",
   "metadata": {},
   "source": [
    "# Example 10: User Interaction\n",
    "```python\n",
    "print(\"\\nExample 10: User Interaction\")\n",
    "user_input = int(input(\"Enter a number for testing operations: \"))\n",
    "print(f\"Double your input: {user_input * 2}\")  # Multiplies user input by 2\n",
    "print(f\"Square of your input: {user_input**2}\")  # Squares the user input\n",
    "print(f\"Is your input even?: {user_input % 2 == 0}\")  # Checks if the input is even\n"
   ]
  },
  {
   "cell_type": "code",
   "execution_count": 57,
   "id": "71d2c995-79f5-4912-82c2-31bcd537ae8a",
   "metadata": {},
   "outputs": [
    {
     "name": "stdin",
     "output_type": "stream",
     "text": [
      "Enter a number for testing operations:  10\n"
     ]
    }
   ],
   "source": [
    "user = int(input(\"Enter a number for testing operations: \"))"
   ]
  },
  {
   "cell_type": "code",
   "execution_count": 58,
   "id": "f5a2c7dc-0342-47f6-bf90-7dc5c791ef38",
   "metadata": {},
   "outputs": [
    {
     "data": {
      "text/plain": [
       "20"
      ]
     },
     "execution_count": 58,
     "metadata": {},
     "output_type": "execute_result"
    }
   ],
   "source": [
    "user * 2"
   ]
  },
  {
   "cell_type": "code",
   "execution_count": 59,
   "id": "ff110c17-e3e9-4f82-accf-b67a41066d1c",
   "metadata": {},
   "outputs": [
    {
     "name": "stdin",
     "output_type": "stream",
     "text": [
      "Enter a number for testing operations:  20\n"
     ]
    }
   ],
   "source": [
    "user = float(input(\"Enter a number for testing operations: \"))"
   ]
  },
  {
   "cell_type": "code",
   "execution_count": 60,
   "id": "23adbc7c-9695-42df-9e39-e4bb2feab1c2",
   "metadata": {},
   "outputs": [
    {
     "data": {
      "text/plain": [
       "60.0"
      ]
     },
     "execution_count": 60,
     "metadata": {},
     "output_type": "execute_result"
    }
   ],
   "source": [
    "user * 3\n"
   ]
  },
  {
   "cell_type": "code",
   "execution_count": 61,
   "id": "06b3ea67-72e8-44d2-a57c-56e626810edf",
   "metadata": {},
   "outputs": [
    {
     "name": "stdin",
     "output_type": "stream",
     "text": [
      "Enter a number for testing operations:  10\n"
     ]
    }
   ],
   "source": [
    "user = input(\"Enter a number for testing operations: \")"
   ]
  },
  {
   "cell_type": "code",
   "execution_count": 62,
   "id": "5154e721-e69e-4ace-be2d-aa14a9da3691",
   "metadata": {},
   "outputs": [
    {
     "data": {
      "text/plain": [
       "'1010'"
      ]
     },
     "execution_count": 62,
     "metadata": {},
     "output_type": "execute_result"
    }
   ],
   "source": [
    "user * 2"
   ]
  },
  {
   "cell_type": "code",
   "execution_count": 63,
   "id": "10426745-0f67-438c-9374-8ade4b39e66c",
   "metadata": {},
   "outputs": [
    {
     "data": {
      "text/plain": [
       "str"
      ]
     },
     "execution_count": 63,
     "metadata": {},
     "output_type": "execute_result"
    }
   ],
   "source": [
    "type(user)\n"
   ]
  },
  {
   "cell_type": "code",
   "execution_count": null,
   "id": "66c66322-e818-4dee-8866-64521629115d",
   "metadata": {},
   "outputs": [],
   "source": []
  },
  {
   "cell_type": "code",
   "execution_count": null,
   "id": "2da43b15-56c9-4a22-91ea-7a493ea415fc",
   "metadata": {},
   "outputs": [],
   "source": []
  },
  {
   "cell_type": "code",
   "execution_count": null,
   "id": "eaf9178c-b4b4-4eaf-a5d6-391698602aa8",
   "metadata": {},
   "outputs": [],
   "source": []
  },
  {
   "cell_type": "code",
   "execution_count": 64,
   "id": "228c99de-cdd7-41bf-8fd4-ba2dbba02614",
   "metadata": {},
   "outputs": [
    {
     "name": "stdin",
     "output_type": "stream",
     "text": [
      "Enter a number for testing operations:  20\n"
     ]
    }
   ],
   "source": [
    "user = float(input(\"Enter a number for testing operations: \"))"
   ]
  },
  {
   "cell_type": "code",
   "execution_count": 65,
   "id": "41ef4923-aa4e-46a2-8068-38216ccde3f5",
   "metadata": {},
   "outputs": [
    {
     "name": "stdout",
     "output_type": "stream",
     "text": [
      "Double your input: 40.0\n"
     ]
    }
   ],
   "source": [
    "print(f\"Double your input: {user * 2}\") "
   ]
  },
  {
   "cell_type": "code",
   "execution_count": 66,
   "id": "fbf4f6f1-49f4-4487-9ade-323f7c9a86e7",
   "metadata": {},
   "outputs": [
    {
     "data": {
      "text/plain": [
       "float"
      ]
     },
     "execution_count": 66,
     "metadata": {},
     "output_type": "execute_result"
    }
   ],
   "source": [
    "type(user)"
   ]
  },
  {
   "cell_type": "code",
   "execution_count": 67,
   "id": "688566c5-c878-441a-824f-e9af0aed2466",
   "metadata": {},
   "outputs": [
    {
     "data": {
      "text/plain": [
       "20.0"
      ]
     },
     "execution_count": 67,
     "metadata": {},
     "output_type": "execute_result"
    }
   ],
   "source": [
    "user"
   ]
  },
  {
   "cell_type": "code",
   "execution_count": 68,
   "id": "22991f83-9eb5-4cb6-97d9-a9241fd2275e",
   "metadata": {},
   "outputs": [
    {
     "name": "stdout",
     "output_type": "stream",
     "text": [
      "Square of your input: 400.0\n"
     ]
    }
   ],
   "source": [
    "print(f\"Square of your input: {user**2}\")"
   ]
  },
  {
   "cell_type": "code",
   "execution_count": 69,
   "id": "a378967d-cbc2-41d5-b88e-281e1b1fcc43",
   "metadata": {},
   "outputs": [
    {
     "name": "stdout",
     "output_type": "stream",
     "text": [
      "Is your input even?: True\n"
     ]
    }
   ],
   "source": [
    "print(f\"Is your input even?: {user % 2 == 0}\")"
   ]
  },
  {
   "cell_type": "code",
   "execution_count": null,
   "id": "27769522-606c-4964-afab-28a62a3adfdb",
   "metadata": {},
   "outputs": [],
   "source": []
  },
  {
   "cell_type": "code",
   "execution_count": null,
   "id": "f0164b62-a965-40bd-99b6-18208e4803c7",
   "metadata": {},
   "outputs": [],
   "source": []
  },
  {
   "cell_type": "markdown",
   "id": "ef6050ab-25d0-40c2-be56-125b847d6b41",
   "metadata": {},
   "source": [
    "### Explanation for Example 10: User Interaction\n",
    "\n",
    "1. **First Operation**: Double the user input\n",
    "   - The program asks the user to input a number. This value is then multiplied by `2` to get the double of the input.\n",
    "   - Example: If the user enters `5`, the result will be `10`.\n",
    "\n",
    "2. **Second Operation**: Square the user input\n",
    "   - The program squares the user input by raising the number to the power of `2` (i.e., `user_input**2`).\n",
    "   - Example: If the user enters `3`, the result will be `9`.\n",
    "\n",
    "3. **Third Operation**: Check if the user input is even\n",
    "   - The program checks if the input number is even by using the modulus operation `user_input % 2 == 0`. If the remainder is `0`, the number is even; otherwise, it is odd.\n",
    "   - Example: If the user enters `4`, the result will be `True`, as `4` is even. If the user enters `7`, the result will be `False`.\n"
   ]
  },
  {
   "cell_type": "markdown",
   "id": "da32d5c0-8877-4c03-ae6e-174a288e9ac9",
   "metadata": {},
   "source": [
    "---------------------------------------- 💙💙💙 ----------------------------------------\n"
   ]
  },
  {
   "cell_type": "markdown",
   "id": "4cddfc3a-5945-41c5-858f-20ad4e8af548",
   "metadata": {},
   "source": [
    "---------------------------------------- 💙💙💙 ----------------------------------------\n",
    "\n"
   ]
  },
  {
   "cell_type": "code",
   "execution_count": 1,
   "id": "72aba226-87c0-4622-9c9e-180aa9af617a",
   "metadata": {},
   "outputs": [
    {
     "name": "stdout",
     "output_type": "stream",
     "text": [
      "\n",
      "🎉✨ End of Program! ✨🎉\n"
     ]
    }
   ],
   "source": [
    "\n",
    "# 🌟✨ End of Comprehensive Example Script ✨🌟\n",
    "print(\"\\n🎉✨ End of Program! ✨🎉\")\n"
   ]
  },
  {
   "cell_type": "code",
   "execution_count": null,
   "id": "a27dfb25-1982-4d71-a131-b17d1d3f6f24",
   "metadata": {},
   "outputs": [],
   "source": []
  }
 ],
 "metadata": {
  "kernelspec": {
   "display_name": "Python (Abdullah)",
   "language": "python",
   "name": "abdullah"
  },
  "language_info": {
   "codemirror_mode": {
    "name": "ipython",
    "version": 3
   },
   "file_extension": ".py",
   "mimetype": "text/x-python",
   "name": "python",
   "nbconvert_exporter": "python",
   "pygments_lexer": "ipython3",
   "version": "3.12.2"
  }
 },
 "nbformat": 4,
 "nbformat_minor": 5
}
