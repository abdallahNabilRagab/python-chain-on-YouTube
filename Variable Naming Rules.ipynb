{
 "cells": [
  {
   "cell_type": "markdown",
   "id": "9c61a6ac-d7be-43a9-baa5-f7c075eafb9e",
   "metadata": {},
   "source": [
    "# <span style=\"color: blue;\">Variable Naming Rules</span>\n",
    "**Variable Naming Rules:**\n",
    "- A variable name must start with a letter (a-z, A-Z) or an underscore (_), and cannot start with a number.\n",
    "- A variable name can contain letters (a-z, A-Z), numbers (0-9), and underscores (_).\n",
    "- A variable name cannot contain spaces or special characters like @, #, !, etc.\n",
    "- Reserved keywords like `if`, `while`, `class` cannot be used as variable names.\n"
   ]
  },
  {
   "cell_type": "markdown",
   "id": "c5bf7b0d-7e1e-4384-9156-2cfcbc0de965",
   "metadata": {},
   "source": [
    "# <span style=\"color: blue;\">Variable Naming Conventions</span>\n",
    "Different styles to name variables consistently and improve readability.\n",
    "\n",
    "## <span style=\"color: blue;\">1. Camel Case</span>\n",
    "- The first word starts lowercase, subsequent words start uppercase.  \n",
    "- Common for variables and functions in Java-like languages."
   ]
  },
  {
   "cell_type": "code",
   "execution_count": null,
   "id": "493c11c6-8b33-4509-8582-53b0dfd4dab2",
   "metadata": {},
   "outputs": [],
   "source": [
    "firstName = \"John\"  # Example  \n",
    "lastName = \"Doe\"  \n",
    "dateOfBirth = \"1990-01-01\""
   ]
  },
  {
   "cell_type": "markdown",
   "id": "745c39f9-0568-4269-a23b-fb4e7c35a04c",
   "metadata": {},
   "source": [
    "## <span style=\"color: blue;\">2. Pascal Case</span>\n",
    "- Each word starts with an uppercase letter.  \n",
    "- Used for class names in languages like C#."
   ]
  },
  {
   "cell_type": "code",
   "execution_count": null,
   "id": "4dd5ac53-5fa1-44f0-b69a-dca02c41b177",
   "metadata": {},
   "outputs": [],
   "source": [
    "\n",
    "FirstName = \"Alice\"  # Example  \n",
    "LastName = \"Smith\"  \n",
    "DateOfBirth = \"2000-12-25\""
   ]
  },
  {
   "cell_type": "markdown",
   "id": "57f936c1-c7f9-41b5-94c0-caf146bd61cb",
   "metadata": {},
   "source": [
    "## <span style=\"color: blue;\">3. Snake Case</span>\n",
    "- Words are separated by underscores, all lowercase.  \n",
    "- Standard in Python for variables and functions."
   ]
  },
  {
   "cell_type": "code",
   "execution_count": null,
   "id": "85b58908-ea02-4920-8398-cfcf707b5a15",
   "metadata": {},
   "outputs": [],
   "source": [
    "first_name = \"Jane\"  # Example  \n",
    "last_name = \"Brown\"  \n",
    "date_of_birth = \"1985-07-19\""
   ]
  },
  {
   "cell_type": "markdown",
   "id": "c8b59351-a723-4496-96fc-67b7f229abc6",
   "metadata": {},
   "source": [
    "\n",
    "## <span style=\"color: blue;\">4. Upper Snake Case</span>\n",
    "- All letters are uppercase, words separated by underscores.  \n",
    "- Used for constants."
   ]
  },
  {
   "cell_type": "code",
   "execution_count": null,
   "id": "967c1687-b0c1-45fb-a279-56baad26fd28",
   "metadata": {},
   "outputs": [],
   "source": [
    "PI = 3.14159  # Example  \n",
    "MAX_USERS = 100  \n",
    "API_KEY = \"your_api_key_here\""
   ]
  },
  {
   "cell_type": "markdown",
   "id": "e430163c-46b3-4abb-bda1-33f625a5941a",
   "metadata": {},
   "source": [
    "## <span style=\"color: blue;\">5. Kebab Case</span>\n",
    "- Words separated by hyphens.  \n",
    "- **NOT** valid as variable names in Python."
   ]
  },
  {
   "cell_type": "code",
   "execution_count": null,
   "id": "c662ed74-ccf3-4974-b49e-2ecaa88ba976",
   "metadata": {},
   "outputs": [],
   "source": [
    "Example: first-name, last-name, date-of-birth (used in URLs or filenames)\n"
   ]
  },
  {
   "cell_type": "markdown",
   "id": "8cc1e180-7e16-4db4-9090-62eb9244aa1b",
   "metadata": {},
   "source": [
    "## <span style=\"color: blue;\">6. Train Case</span>\n",
    "- Like Pascal Case but with hyphens.  \n",
    "- **NOT** valid in Python for variables."
   ]
  },
  {
   "cell_type": "code",
   "execution_count": null,
   "id": "98664949-7adc-4bc5-af00-8211a3d074d3",
   "metadata": {},
   "outputs": [],
   "source": [
    "Example: First-Name, Last-Name, Date-Of-Birth\n"
   ]
  },
  {
   "cell_type": "markdown",
   "id": "0fb842d0-a6c9-4178-ba4a-8d7eb4fdb0d5",
   "metadata": {},
   "source": [
    "## <span style=\"color: blue;\">7. Hungarian Notation</span>\n",
    "- Prefix indicates variable type or purpose.  \n",
    "- Rare today but common in older styles."
   ]
  },
  {
   "cell_type": "code",
   "execution_count": null,
   "id": "3076177c-008c-44a3-88d1-3330fd61acd8",
   "metadata": {},
   "outputs": [],
   "source": [
    "strName = \"Chris\"  # String  \n",
    "intAge = 30        # Integer  \n",
    "fltSalary = 5000.5 # Float"
   ]
  },
  {
   "cell_type": "markdown",
   "id": "49718fed-6c88-433d-8be9-7b2ae5987e2e",
   "metadata": {},
   "source": [
    "\n",
    "## <span style=\"color: blue;\">8. Screaming Snake Case</span>\n",
    "- Emphasizes critical constants.\n"
   ]
  },
  {
   "cell_type": "code",
   "execution_count": null,
   "id": "dd65e7f4-ba41-4486-9d15-a9aff1d16667",
   "metadata": {},
   "outputs": [],
   "source": [
    "CRITICAL_ERROR = \"System failure!\"  # Example  \n",
    "DEFAULT_TIMEOUT = 60"
   ]
  },
  {
   "cell_type": "markdown",
   "id": "e7c8cd6e-d3d4-4908-b21b-b3d8c88a0398",
   "metadata": {},
   "source": [
    "\n",
    "## **Choosing the Right Convention**\n",
    "- Use *Snake Case* for Python variables and functions.  \n",
    "- Use *Pascal Case* for Python class names.  \n",
    "- Use **Upper Snake Case** for constants.\n"
   ]
  },
  {
   "cell_type": "code",
   "execution_count": null,
   "id": "e14d67b6-0444-4559-82f0-068ce8ce49a8",
   "metadata": {},
   "outputs": [],
   "source": []
  }
 ],
 "metadata": {
  "kernelspec": {
   "display_name": "Python (Abdullah)",
   "language": "python",
   "name": "abdullah"
  },
  "language_info": {
   "codemirror_mode": {
    "name": "ipython",
    "version": 3
   },
   "file_extension": ".py",
   "mimetype": "text/x-python",
   "name": "python",
   "nbconvert_exporter": "python",
   "pygments_lexer": "ipython3",
   "version": "3.12.2"
  }
 },
 "nbformat": 4,
 "nbformat_minor": 5
}
