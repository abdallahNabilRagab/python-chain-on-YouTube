{
 "cells": [
  {
   "cell_type": "markdown",
   "id": "17172959-6326-4ca4-bc99-cbe29b271d41",
   "metadata": {},
   "source": [
    "# Basics of If Conditions and Strings in Python\n",
    "\n",
    "## 1. Introduction\n",
    "In this tutorial, we will learn:\n",
    "- How to use `if conditions` to control the flow of code based on conditions.\n",
    "- What are `strings` and how to manipulate them in Python.\n",
    "\n",
    "By the end, we will build a small project to demonstrate these concepts.\n",
    "\n",
    "---\n",
    "\n",
    "## 2. If Conditions\n",
    "\n",
    "### Syntax:\n",
    "```python\n",
    "if condition:\n",
    "    # code to execute if the condition is true\n",
    "elif another_condition:\n",
    "    # code to execute if the second condition is true\n",
    "else:\n",
    "    # code to execute if none of the conditions are true\n"
   ]
  },
  {
   "cell_type": "code",
   "execution_count": 5,
   "id": "7c050e18-ad44-4543-a3a1-7ccd566a8588",
   "metadata": {},
   "outputs": [
    {
     "name": "stdout",
     "output_type": "stream",
     "text": [
      "the number is greater than 5\n"
     ]
    }
   ],
   "source": [
    "number = 10\n",
    "\n",
    "if number > 5:\n",
    "    print(\"the number is greater than 5\")"
   ]
  },
  {
   "cell_type": "markdown",
   "id": "95e1509e-aff3-445c-ba50-f1b235fdc261",
   "metadata": {},
   "source": [
    "#### **Python Code for If Conditions**\n",
    "```python\n",
    "# Example: Basic If Condition"
   ]
  },
  {
   "cell_type": "code",
   "execution_count": 6,
   "id": "7d595752-ad43-4b0c-be12-f5ea6144b03d",
   "metadata": {},
   "outputs": [
    {
     "name": "stdout",
     "output_type": "stream",
     "text": [
      "the number is greater than 5\n"
     ]
    }
   ],
   "source": [
    "number = 10\n",
    "\n",
    "if number > 5:\n",
    "    print(\"the number is greater than 5\")\n",
    "\n",
    "else:\n",
    "    (\"the number is not greater than 5\")\n",
    "    "
   ]
  },
  {
   "cell_type": "code",
   "execution_count": 9,
   "id": "b0672031-592d-4822-b96e-97c67f659cd5",
   "metadata": {},
   "outputs": [
    {
     "name": "stdout",
     "output_type": "stream",
     "text": [
      "the number is not greater than 5\n"
     ]
    }
   ],
   "source": [
    "number = 4\n",
    "\n",
    "if number > 5:\n",
    "    print(\"the number is greater than 5\")\n",
    "\n",
    "else:\n",
    "    print(\"the number is not greater than 5\")\n",
    "    "
   ]
  },
  {
   "cell_type": "code",
   "execution_count": 10,
   "id": "a79216f9-0623-42ca-a738-5c53d60360fd",
   "metadata": {},
   "outputs": [
    {
     "name": "stdout",
     "output_type": "stream",
     "text": [
      "it divides by 3\n"
     ]
    }
   ],
   "source": [
    "num = 15\n",
    "\n",
    "if num % 3 == 0:\n",
    "    print(\"it divides by 3\")\n",
    "\n",
    "elif num % 7 == 0:\n",
    "    print(\"it divides by 7\")\n",
    "\n",
    "else:\n",
    "    print(\"Doson't Divide\")"
   ]
  },
  {
   "cell_type": "code",
   "execution_count": 11,
   "id": "7b7c8aa4-d884-4073-9f4a-6e6cec9a0e5b",
   "metadata": {},
   "outputs": [
    {
     "name": "stdout",
     "output_type": "stream",
     "text": [
      "Doson't Divide\n"
     ]
    }
   ],
   "source": [
    "num = 10\n",
    "\n",
    "if num % 3 == 0:\n",
    "    print(\"it divides by 3\")\n",
    "\n",
    "elif num % 7 == 0:\n",
    "    print(\"it divides by 7\")\n",
    "\n",
    "else:\n",
    "    print(\"Doson't Divide\")"
   ]
  },
  {
   "cell_type": "code",
   "execution_count": 13,
   "id": "a0fe5e17-b968-42e9-898a-fa1d09fd66ac",
   "metadata": {},
   "outputs": [
    {
     "name": "stdout",
     "output_type": "stream",
     "text": [
      "it divides by 7\n"
     ]
    }
   ],
   "source": [
    "num = 7\n",
    "\n",
    "\n",
    "if num % 3 == 0:\n",
    "    print(\"it divides by 3\")\n",
    "\n",
    "elif num % 7 == 0:\n",
    "    print(\"it divides by 7\")\n",
    "\n",
    "else:\n",
    "    print(\"Doson't Divide\")"
   ]
  },
  {
   "cell_type": "markdown",
   "id": "76f95e90-2c0f-463b-8485-ef2617fc9943",
   "metadata": {},
   "source": [
    "## 5. Small Project: Divisibility Checker\n",
    "\n",
    "### Objective:\n",
    "Create a program that:\n",
    "- Takes a number as input from the user.\n",
    "- Checks if the number is divisible by 3, 7, or both.\n",
    "- Prints an appropriate message based on the result.\n",
    "\n",
    "Run the code below to try it yourself!\n"
   ]
  },
  {
   "cell_type": "code",
   "execution_count": 14,
   "id": "d99596f0-d49c-499f-92bb-ebccd1f81834",
   "metadata": {},
   "outputs": [
    {
     "name": "stdin",
     "output_type": "stream",
     "text": [
      "Enter a number:  10\n"
     ]
    },
    {
     "name": "stdout",
     "output_type": "stream",
     "text": [
      "10 is not divisible by 3 or 7.\n"
     ]
    }
   ],
   "source": [
    "number = int(input(\"Enter a number: \"))\n",
    "\n",
    "if number % 3 == 0 and number % 7 == 0:\n",
    "    print(f\"{number} is divisible by both 3 and 7!\")\n",
    "\n",
    "elif number % 3 == 0:\n",
    "    print(f\"{number} is divisible by 3.\")\n",
    "\n",
    "elif number % 7 == 0:\n",
    "    print(f\"{number} is divisible by 3 or 7.\")\n",
    "\n",
    "else:\n",
    "    print(f\"{number} is not divisible by 3 or 7.\")"
   ]
  },
  {
   "cell_type": "code",
   "execution_count": 15,
   "id": "7dae670e-f8e7-48e1-a931-cee5fdf0c293",
   "metadata": {},
   "outputs": [
    {
     "name": "stdin",
     "output_type": "stream",
     "text": [
      "Enter a number:  7\n"
     ]
    },
    {
     "name": "stdout",
     "output_type": "stream",
     "text": [
      "7 is divisible by 3 or 7.\n"
     ]
    }
   ],
   "source": [
    "number = int(input(\"Enter a number: \"))\n",
    "\n",
    "if number % 3 == 0 and number % 7 == 0:\n",
    "    print(f\"{number} is divisible by both 3 and 7!\")\n",
    "\n",
    "elif number % 3 == 0:\n",
    "    print(f\"{number} is divisible by 3.\")\n",
    "\n",
    "elif number % 7 == 0:\n",
    "    print(f\"{number} is divisible by 3 or 7.\")\n",
    "\n",
    "else:\n",
    "    print(f\"{number} is not divisible by 3 or 7.\")"
   ]
  },
  {
   "cell_type": "code",
   "execution_count": 16,
   "id": "cdff5965-b29e-4473-ab0b-df7fb1fc2749",
   "metadata": {},
   "outputs": [
    {
     "name": "stdin",
     "output_type": "stream",
     "text": [
      "Enter a number:  8\n"
     ]
    },
    {
     "name": "stdout",
     "output_type": "stream",
     "text": [
      "8 is not divisible by 3 or 7.\n"
     ]
    }
   ],
   "source": [
    "number = int(input(\"Enter a number: \"))\n",
    "\n",
    "if number % 3 == 0 and number % 7 == 0:\n",
    "    print(f\"{number} is divisible by both 3 and 7!\")\n",
    "\n",
    "elif number % 3 == 0:\n",
    "    print(f\"{number} is divisible by 3.\")\n",
    "\n",
    "elif number % 7 == 0:\n",
    "    print(f\"{number} is divisible by 3 or 7.\")\n",
    "\n",
    "else:\n",
    "    print(f\"{number} is not divisible by 3 or 7.\")\n",
    "    "
   ]
  },
  {
   "cell_type": "code",
   "execution_count": null,
   "id": "67299c0d-33c3-4863-a60f-3f321a5b077b",
   "metadata": {},
   "outputs": [],
   "source": []
  },
  {
   "cell_type": "code",
   "execution_count": null,
   "id": "6af2ca23-ff71-4fbf-85a6-439343471f8a",
   "metadata": {},
   "outputs": [],
   "source": []
  },
  {
   "cell_type": "code",
   "execution_count": null,
   "id": "7ca93e18-eccf-4755-88e3-979c8552bb10",
   "metadata": {},
   "outputs": [],
   "source": []
  },
  {
   "cell_type": "code",
   "execution_count": null,
   "id": "6c5414ec-7f32-4c7b-8311-7a3aa4d4c926",
   "metadata": {},
   "outputs": [],
   "source": []
  },
  {
   "cell_type": "code",
   "execution_count": null,
   "id": "a587ce34-a3f9-4031-8451-2e029e8fad22",
   "metadata": {},
   "outputs": [],
   "source": []
  }
 ],
 "metadata": {
  "kernelspec": {
   "display_name": "Python (Abdullah)",
   "language": "python",
   "name": "abdullah"
  },
  "language_info": {
   "codemirror_mode": {
    "name": "ipython",
    "version": 3
   },
   "file_extension": ".py",
   "mimetype": "text/x-python",
   "name": "python",
   "nbconvert_exporter": "python",
   "pygments_lexer": "ipython3",
   "version": "3.12.2"
  }
 },
 "nbformat": 4,
 "nbformat_minor": 5
}
