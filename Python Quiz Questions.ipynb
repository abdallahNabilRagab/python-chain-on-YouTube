{
 "cells": [
  {
   "cell_type": "markdown",
   "id": "8a4e14a4-a569-4fa8-a96b-797c42ee04bd",
   "metadata": {},
   "source": [
    "<div style=\"text-align: center; font-size: 40px; font-weight: bold;\">\n",
    "    ===========================================<br>\n",
    "    Python Quiz Questions<br>\n",
    "    ===========================================\n",
    "</div>\n"
   ]
  },
  {
   "cell_type": "markdown",
   "id": "97ce0af5-f43e-4d5b-a702-94e676e7daa5",
   "metadata": {},
   "source": [
    "# <font color='black' size='3'>1. What is Python and why is it so popular?</font>\n",
    "\n",
    "# <font color='black' size='3'>2. What are the key differences between Python 2 and Python 3?</font>\n",
    "\n",
    "# <font color='black' size='3'>3. What is the purpose of the `self` keyword in Python?</font>\n",
    "\n",
    "# <font color='black' size='3'>4. What is a Python decorator and how do you use it?</font>\n",
    "\n",
    "# <font color='black' size='3'>5. What is a list in Python, and how does it differ from a tuple?</font>\n",
    "\n",
    "# <font color='black' size='3'>6. How does Python handle memory management?</font>\n",
    "\n",
    "# <font color='black' size='3'>7. What is the difference between `deepcopy()` and `copy()` in Python?</font>\n",
    "\n",
    "# <font color='black' size='3'>8. How does exception handling work in Python? Explain `try`, `except`, `finally`.</font>\n",
    "\n",
    "# <font color='black' size='3'>9. What is the purpose of `yield` in Python?</font>\n",
    "\n",
    "# <font color='black' size='3'>10. What is the difference between `is` and `==` in Python?</font>\n",
    "\n",
    "# <font color='black' size='3'>11. How do you create a function in Python? Provide an example.</font>\n",
    "\n",
    "# <font color='black' size='3'>12. What is the difference between a Python module and a Python package?</font>\n",
    "\n",
    "# <font color='black' size='3'>13. How do you handle file input and output in Python?</font>\n",
    "\n",
    "# <font color='black' size='3'>14. What are Python's built-in data types?</font>\n",
    "\n",
    "# <font color='black' size='3'>15. How do you define a class in Python and create an object of it?</font>\n",
    "\n",
    "# <font color='black' size='3'>16. What is inheritance in Python and how does it work?</font>\n",
    "\n",
    "# <font color='black' size='3'>17. What is a lambda function in Python? How is it different from a regular function?</font>\n",
    "\n",
    "# <font color='black' size='3'>18. How can you generate random numbers in Python?</font>\n",
    "\n",
    "# <font color='black' size='3'>19. What are the different ways to iterate through a list in Python?</font>\n",
    "\n",
    "# <font color='black' size='3'>20. What is a generator in Python, and how is it different from a normal function?</font>\n",
    "\n",
    "# <font color='black' size='3'>21. How do you import modules in Python? Give an example.</font>\n",
    "\n",
    "# <font color='black' size='3'>22. What is the purpose of the `__init__` method in Python classes?</font>\n",
    "\n",
    "# <font color='black' size='3'>23. What are list comprehensions, and why are they useful in Python?</font>\n",
    "\n",
    "# <font color='black' size='3'>24. How does Python handle garbage collection?</font>\n",
    "\n",
    "# <font color='black' size='3'>25. What is the use of the `with` statement in Python?</font>\n",
    "\n",
    "# <font color='black' size='3'>26. How do you define a variable as global in Python?</font>\n",
    "\n",
    "# <font color='black' size='3'>27. What is the difference between `break`, `continue`, and `pass` in Python?</font>\n",
    "\n",
    "# <font color='black' size='3'>28. How do you handle multi-threading in Python?</font>\n",
    "\n",
    "# <font color='black' size='3'>29. What is the purpose of the `assert` statement in Python?</font>\n",
    "\n",
    "# <font color='black' size='3'>30. How do you convert a string to a number in Python?</font>\n"
   ]
  },
  {
   "cell_type": "markdown",
   "id": "7bdb137a-684b-46cf-9a03-3941e78a3f30",
   "metadata": {},
   "source": [
    "<div style=\"text-align: center; font-size: 40px; font-weight: bold;\">\n",
    "    ===========================================<br>\n",
    "    End of the questions.<br>\n",
    "    ===========================================\n",
    "</div>\n"
   ]
  },
  {
   "cell_type": "code",
   "execution_count": null,
   "id": "21a23d7b-8f5f-4355-9753-9edc508eba6e",
   "metadata": {},
   "outputs": [],
   "source": []
  }
 ],
 "metadata": {
  "kernelspec": {
   "display_name": "Python (Abdullah)",
   "language": "python",
   "name": "abdullah"
  },
  "language_info": {
   "codemirror_mode": {
    "name": "ipython",
    "version": 3
   },
   "file_extension": ".py",
   "mimetype": "text/x-python",
   "name": "python",
   "nbconvert_exporter": "python",
   "pygments_lexer": "ipython3",
   "version": "3.12.2"
  }
 },
 "nbformat": 4,
 "nbformat_minor": 5
}
