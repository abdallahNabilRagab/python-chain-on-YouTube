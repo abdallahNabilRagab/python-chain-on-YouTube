{
 "cells": [
  {
   "cell_type": "markdown",
   "id": "b503eef3-a68b-4864-a655-abe6396aefce",
   "metadata": {},
   "source": [
    "## Mastering Text Manipulation in Python: Join, Replace, and Split"
   ]
  },
  {
   "cell_type": "markdown",
   "id": "ceb10ed0-2102-451a-a74c-b9656acba562",
   "metadata": {},
   "source": [
    "---"
   ]
  },
  {
   "cell_type": "markdown",
   "id": "42f17778-c036-4861-b572-8384649df14f",
   "metadata": {},
   "source": [
    "- Text manipulation is a fundamental skill for Python developers, enabling them to process, clean, and format text efficiently. In this episode, we’ll explore three essential methods: join, replace, and split, with real-world, professional examples."
   ]
  },
  {
   "cell_type": "markdown",
   "id": "3aea0601-4269-4ab1-86e4-f7f3d24836cf",
   "metadata": {},
   "source": [
    "---"
   ]
  },
  {
   "cell_type": "markdown",
   "id": "0d65af4d-e231-4666-97ae-f557cf7ba913",
   "metadata": {},
   "source": [
    "1️⃣ The join Method: Combining Text Elements\n",
    "- The join method is used to combine a list of strings into a single string, with a specified delimiter between them."
   ]
  },
  {
   "cell_type": "markdown",
   "id": "b193d5f1-2d8b-40ea-b4f9-989aaad70c13",
   "metadata": {},
   "source": [
    "**Basic Example**\n"
   ]
  },
  {
   "cell_type": "code",
   "execution_count": 3,
   "id": "dade9ed5-7164-48a3-aba3-6e4b0fbc3151",
   "metadata": {},
   "outputs": [],
   "source": [
    "words = [\"Python\" , \"is\", \"fun\"]"
   ]
  },
  {
   "cell_type": "code",
   "execution_count": 4,
   "id": "e8a3db2f-3cc9-4785-9277-db0179f45cf1",
   "metadata": {},
   "outputs": [
    {
     "data": {
      "text/plain": [
       "['Python', 'is', 'fun']"
      ]
     },
     "execution_count": 4,
     "metadata": {},
     "output_type": "execute_result"
    }
   ],
   "source": [
    "words"
   ]
  },
  {
   "cell_type": "code",
   "execution_count": 5,
   "id": "89b5b4c6-0a4b-4ad4-9c2a-24c435c0ec85",
   "metadata": {},
   "outputs": [],
   "source": [
    "sentence = \" \".join(words)"
   ]
  },
  {
   "cell_type": "code",
   "execution_count": 6,
   "id": "7b782898-a65d-47cd-9353-1ef401f89ed5",
   "metadata": {},
   "outputs": [
    {
     "name": "stdout",
     "output_type": "stream",
     "text": [
      "Python is fun\n"
     ]
    }
   ],
   "source": [
    "print(sentence)"
   ]
  },
  {
   "cell_type": "code",
   "execution_count": null,
   "id": "8450e909-074b-495c-b0c9-3efc26314a0d",
   "metadata": {},
   "outputs": [],
   "source": []
  },
  {
   "cell_type": "markdown",
   "id": "71a55d85-c7d4-4bf1-8acc-4df10499310a",
   "metadata": {},
   "source": [
    "### Professional Examples\n",
    "- Combining Full Names"
   ]
  },
  {
   "cell_type": "code",
   "execution_count": 7,
   "id": "63321299-f2f8-450b-bb9f-df8ad2738d55",
   "metadata": {},
   "outputs": [],
   "source": [
    "first_names = [\"Ahmed\", \"mohamed\", \"amr\"]"
   ]
  },
  {
   "cell_type": "code",
   "execution_count": 8,
   "id": "8cdca735-a054-4862-bcaa-372fb03b98bc",
   "metadata": {},
   "outputs": [],
   "source": [
    "last_names = [\"abdallah\", \"ahmed\", \"medhat\"]"
   ]
  },
  {
   "cell_type": "code",
   "execution_count": 9,
   "id": "3aae248c-093e-4a67-8eb1-427d2f3acf33",
   "metadata": {},
   "outputs": [],
   "source": [
    "full_names = [f\"{first} {last}\" for first, last in zip(first_names, last_names)]"
   ]
  },
  {
   "cell_type": "code",
   "execution_count": 11,
   "id": "698413a3-136d-4e1e-ad6c-76a2d9412f28",
   "metadata": {},
   "outputs": [
    {
     "data": {
      "text/plain": [
       "['Ahmed abdallah', 'mohamed ahmed', 'amr medhat']"
      ]
     },
     "execution_count": 11,
     "metadata": {},
     "output_type": "execute_result"
    }
   ],
   "source": [
    "full_names"
   ]
  },
  {
   "cell_type": "code",
   "execution_count": 14,
   "id": "8a19c0e7-cde1-41ed-80de-c45e3031f5dd",
   "metadata": {},
   "outputs": [
    {
     "name": "stdout",
     "output_type": "stream",
     "text": [
      "Ahmed abdallah, mohamed ahmed, amr medhat\n"
     ]
    }
   ],
   "source": [
    "print(\", \".join(full_names))"
   ]
  },
  {
   "cell_type": "markdown",
   "id": "27e8d65b-8c9a-40c4-8034-c7b2ef5d1ec3",
   "metadata": {},
   "source": [
    "### Daily Schedule Formatting\n"
   ]
  },
  {
   "cell_type": "code",
   "execution_count": 15,
   "id": "24260514-8b20-4cf4-94f2-d0f05cee9620",
   "metadata": {},
   "outputs": [],
   "source": [
    "time_intervals = [\"Morning\", \"Afternoon\", \"Evening\", \"Night\"]\n"
   ]
  },
  {
   "cell_type": "code",
   "execution_count": 16,
   "id": "77c30c7f-99ae-435d-bb59-39120592c6f7",
   "metadata": {},
   "outputs": [],
   "source": [
    "schedule = \" - \".join(time_intervals)"
   ]
  },
  {
   "cell_type": "code",
   "execution_count": 17,
   "id": "6d4243ea-77be-468b-959a-e4df8b6465d2",
   "metadata": {},
   "outputs": [
    {
     "name": "stdout",
     "output_type": "stream",
     "text": [
      "Daily Schedule: Morning - Afternoon - Evening - Night\n"
     ]
    }
   ],
   "source": [
    "print(f\"Daily Schedule: {schedule}\")"
   ]
  },
  {
   "cell_type": "markdown",
   "id": "766008bd-8a75-46a1-ab5a-d9568ce7597c",
   "metadata": {},
   "source": [
    "2️⃣ The replace Method: Substituting Characters or Words\n",
    "- The replace method replaces a specific substring with another substring in a string.\n",
    "\n",
    "**Basic Example**"
   ]
  },
  {
   "cell_type": "code",
   "execution_count": 18,
   "id": "1badb572-0635-4bdb-b543-9b830420cb23",
   "metadata": {},
   "outputs": [],
   "source": [
    "text = \"hello World\"\n",
    "new_text = text.replace(\"World\", \"python\")"
   ]
  },
  {
   "cell_type": "code",
   "execution_count": 19,
   "id": "4829d3bb-29fb-4ac2-8de5-d5cad23a9156",
   "metadata": {},
   "outputs": [
    {
     "data": {
      "text/plain": [
       "'hello python'"
      ]
     },
     "execution_count": 19,
     "metadata": {},
     "output_type": "execute_result"
    }
   ],
   "source": [
    "new_text"
   ]
  },
  {
   "cell_type": "code",
   "execution_count": null,
   "id": "f55760ba-45a6-438d-a735-627ff29c6520",
   "metadata": {},
   "outputs": [],
   "source": []
  },
  {
   "cell_type": "markdown",
   "id": "e2cdb050-4a01-49a6-a3fd-816bec432aa6",
   "metadata": {},
   "source": [
    "### Professional Examples\n",
    "- Text Encryption"
   ]
  },
  {
   "cell_type": "code",
   "execution_count": 20,
   "id": "bf084e1e-be54-4f96-ada9-7f66c35bf292",
   "metadata": {},
   "outputs": [
    {
     "name": "stdout",
     "output_type": "stream",
     "text": [
      "Encoded Message: M33t m3 @t m1dn1ght.\n"
     ]
    }
   ],
   "source": [
    "# Encrypting text by replacing characters\n",
    "secret_message = \"Meet me at midnight.\"\n",
    "encoded_message = secret_message.replace(\"e\", \"3\").replace(\"a\", \"@\").replace(\"i\", \"1\")\n",
    "print(f\"Encoded Message: {encoded_message}\")\n",
    "# Output: M33t m3 @t m1dn1ght.\n"
   ]
  },
  {
   "cell_type": "code",
   "execution_count": 21,
   "id": "a2eb2e16-14fe-4539-a910-d1db2fcdc311",
   "metadata": {},
   "outputs": [],
   "source": [
    "encoded_message = secret_message.replace(\"3\" ,\"e\").replace(\"@\",\"a\").replace( \"1\",\"i\")\n"
   ]
  },
  {
   "cell_type": "code",
   "execution_count": 22,
   "id": "7aaeb09c-b0ea-42a5-9553-6ff000076ee7",
   "metadata": {},
   "outputs": [
    {
     "data": {
      "text/plain": [
       "'Meet me at midnight.'"
      ]
     },
     "execution_count": 22,
     "metadata": {},
     "output_type": "execute_result"
    }
   ],
   "source": [
    "encoded_message"
   ]
  },
  {
   "cell_type": "markdown",
   "id": "637b017e-cde4-456a-a590-aaf7877489b3",
   "metadata": {},
   "source": [
    "- Removing Unwanted Characters\n"
   ]
  },
  {
   "cell_type": "code",
   "execution_count": 27,
   "id": "d770d66f-f54b-4dbf-b700-410d55340c0a",
   "metadata": {},
   "outputs": [],
   "source": [
    "# Cleaning up text by removing unwanted symbols\n",
    "messy_text = \"###Hello###World!!!\"\n",
    "\n",
    "clean_text = messy_text.replace(\"#\", \"\").replace(\"!\", \"\")"
   ]
  },
  {
   "cell_type": "code",
   "execution_count": 28,
   "id": "35a38f54-8f21-440d-aa91-761a8c4fa80e",
   "metadata": {},
   "outputs": [
    {
     "data": {
      "text/plain": [
       "'HelloWorld'"
      ]
     },
     "execution_count": 28,
     "metadata": {},
     "output_type": "execute_result"
    }
   ],
   "source": [
    "clean_text"
   ]
  },
  {
   "cell_type": "code",
   "execution_count": null,
   "id": "1d6b940f-106e-41a6-847d-12eb08d43924",
   "metadata": {},
   "outputs": [],
   "source": []
  },
  {
   "cell_type": "markdown",
   "id": "5e9741a5-233b-4491-abe8-f20350b4cf8e",
   "metadata": {},
   "source": [
    "3️⃣ The split Method: Breaking Text into Parts\n",
    "\n",
    "**The split method breaks a string into a list of substrings based on a specified delimiter.**\n",
    "\n",
    "- Basic Example"
   ]
  },
  {
   "cell_type": "code",
   "execution_count": 29,
   "id": "c4a786ed-4e0d-47f7-b657-4f9bcf5f8273",
   "metadata": {},
   "outputs": [],
   "source": [
    "sentence = \"Python is fun\"\n",
    "words =sentence.split()\n"
   ]
  },
  {
   "cell_type": "code",
   "execution_count": 30,
   "id": "447f1942-aa88-4eb2-a7b2-2546655d30e1",
   "metadata": {},
   "outputs": [
    {
     "data": {
      "text/plain": [
       "['Python', 'is', 'fun']"
      ]
     },
     "execution_count": 30,
     "metadata": {},
     "output_type": "execute_result"
    }
   ],
   "source": [
    "words"
   ]
  },
  {
   "cell_type": "markdown",
   "id": "36f2dd7f-cbc1-4d18-ad87-277f147908cc",
   "metadata": {},
   "source": [
    "**Professional Examples**\n",
    "- Analyzing Daily Activities"
   ]
  },
  {
   "cell_type": "code",
   "execution_count": 31,
   "id": "03a88c77-7a43-4f00-bc81-2f956e36d8a5",
   "metadata": {},
   "outputs": [
    {
     "name": "stdout",
     "output_type": "stream",
     "text": [
      "- Wake up\n",
      "- Breakfast\n",
      "- Work\n",
      "- Exercise\n",
      "- Dinner\n",
      "- Sleep\n"
     ]
    }
   ],
   "source": [
    "\n",
    "activities = \"Wake up, Breakfast, Work, Exercise, Dinner, Sleep\"\n",
    "\n",
    "activity_list = activities.split(\", \")\n",
    "\n",
    "for activity in activity_list:\n",
    "    print(f\"- {activity}\")"
   ]
  },
  {
   "cell_type": "code",
   "execution_count": null,
   "id": "fe7b3b53-4be7-4747-81e0-b6ebb0150942",
   "metadata": {},
   "outputs": [],
   "source": []
  },
  {
   "cell_type": "code",
   "execution_count": null,
   "id": "01268903-795e-4ce2-b29b-326cafcbc0f7",
   "metadata": {},
   "outputs": [],
   "source": []
  },
  {
   "cell_type": "markdown",
   "id": "ab7e103d-38b2-4d0b-8cbb-5db3903e7d0a",
   "metadata": {},
   "source": [
    "- Extracting Long Words"
   ]
  },
  {
   "cell_type": "code",
   "execution_count": 32,
   "id": "a38e724e-a9f7-4391-a989-67ac29e24f19",
   "metadata": {},
   "outputs": [],
   "source": [
    "sentence = \"Python is a powerful programming language\"\n"
   ]
  },
  {
   "cell_type": "code",
   "execution_count": 34,
   "id": "9b3dde21-63bc-462f-80d2-0c85616a6aaa",
   "metadata": {},
   "outputs": [],
   "source": [
    "long_words =  [word for word in sentence.split() if len(word) > 6]"
   ]
  },
  {
   "cell_type": "code",
   "execution_count": 35,
   "id": "463a12c8-5670-4538-a183-d38adcbe4447",
   "metadata": {},
   "outputs": [
    {
     "name": "stdout",
     "output_type": "stream",
     "text": [
      "Long Words: ['powerful', 'programming', 'language']\n"
     ]
    }
   ],
   "source": [
    "print(f\"Long Words: {long_words}\")"
   ]
  },
  {
   "cell_type": "markdown",
   "id": "5cb907f7-ce6a-4e78-8712-60f4a311ca43",
   "metadata": {},
   "source": [
    "---"
   ]
  },
  {
   "cell_type": "markdown",
   "id": "83f41924-d53a-42a0-bd07-00c47c7438e4",
   "metadata": {},
   "source": [
    "4️⃣ Combining Methods for Advanced Text Processing\n",
    "                   \n",
    "*By combining **join, replace, and split**, you can handle complex text manipulation tasks.*\n",
    "\n",
    "- Example: Text Cleanup"
   ]
  },
  {
   "cell_type": "code",
   "execution_count": 40,
   "id": "49e427c8-df17-4ccc-9e70-8f56a3e9fd63",
   "metadata": {},
   "outputs": [],
   "source": [
    "messy_sentence = \"  Learn! Python, it's fun!!! \"\n",
    "\n",
    "cleaned_sentence = \" \".join(messy_sentence.strip(\"!  \").split())\n"
   ]
  },
  {
   "cell_type": "code",
   "execution_count": 41,
   "id": "7901a073-f4b3-4e2c-890a-fbcb5de4dbd6",
   "metadata": {},
   "outputs": [
    {
     "name": "stdout",
     "output_type": "stream",
     "text": [
      "Cleaned Sentence: Learn! Python, it's fun\n"
     ]
    }
   ],
   "source": [
    "print(f\"Cleaned Sentence: {cleaned_sentence}\")"
   ]
  },
  {
   "cell_type": "markdown",
   "id": "e11ebe2e-f101-4998-b4e7-91e07b55d83c",
   "metadata": {},
   "source": [
    "- Example: Highlighting Repeated Characters\n"
   ]
  },
  {
   "cell_type": "code",
   "execution_count": 42,
   "id": "528902f4-1d01-44b7-bd23-7b4285f36e1b",
   "metadata": {},
   "outputs": [
    {
     "name": "stdout",
     "output_type": "stream",
     "text": [
      "Modified Sentence: Su##ess #omes with #onsisten#y\n"
     ]
    }
   ],
   "source": [
    "sentence = \"Success comes with consistency\"\n",
    "\n",
    "replaced_sentence = sentence.replace(\"c\", \"#\")\n",
    "\n",
    "print(f\"Modified Sentence: {replaced_sentence}\")\n"
   ]
  },
  {
   "cell_type": "code",
   "execution_count": null,
   "id": "cc16bf0a-9d26-40ec-9f3e-ffd02e9ec032",
   "metadata": {},
   "outputs": [],
   "source": []
  },
  {
   "cell_type": "markdown",
   "id": "49504f47-e850-4132-a012-4ef7d6ffb2ef",
   "metadata": {},
   "source": [
    "\n",
    "5️⃣ Advanced Text Analysis\n",
    "- Counting Unique Words\n"
   ]
  },
  {
   "cell_type": "code",
   "execution_count": 43,
   "id": "4b38f39f-6036-43f8-a8d0-c9c12855508a",
   "metadata": {},
   "outputs": [],
   "source": [
    "\n",
    "paragraph = \"Python is simple and powerful. Python is widely used.\"\n"
   ]
  },
  {
   "cell_type": "code",
   "execution_count": 44,
   "id": "c78ad44e-087c-4c7a-961c-77e4f2d13b43",
   "metadata": {},
   "outputs": [],
   "source": [
    "unique_words = set(word.strip(\"!.\").lower() for word in paragraph.split())"
   ]
  },
  {
   "cell_type": "code",
   "execution_count": 45,
   "id": "2e5170cc-fd9b-4d34-a23f-cb6ef9da1a3c",
   "metadata": {},
   "outputs": [
    {
     "name": "stdout",
     "output_type": "stream",
     "text": [
      "Unique Words: {'powerful', 'python', 'widely', 'used', 'and', 'simple', 'is'}\n"
     ]
    }
   ],
   "source": [
    "print(f\"Unique Words: {unique_words}\")"
   ]
  },
  {
   "cell_type": "markdown",
   "id": "478f8a51-204c-414b-bb8b-282184c14fed",
   "metadata": {},
   "source": [
    "- Word Frequency Analysis"
   ]
  },
  {
   "cell_type": "code",
   "execution_count": 48,
   "id": "66686543-d061-4a66-9791-aaa69804fdbe",
   "metadata": {},
   "outputs": [],
   "source": [
    "\n",
    "words = paragraph.split()\n",
    "word_frequency = {word.lower(): words.count(word) for word in set(words)}"
   ]
  },
  {
   "cell_type": "code",
   "execution_count": 49,
   "id": "f4ae2649-915c-435e-98e4-df98b078f0e3",
   "metadata": {},
   "outputs": [
    {
     "name": "stdout",
     "output_type": "stream",
     "text": [
      "Word Frequency: {'widely': 1, 'powerful.': 1, 'and': 1, 'simple': 1, 'used.': 1, 'python': 2, 'is': 2}\n"
     ]
    }
   ],
   "source": [
    "print(f\"Word Frequency: {word_frequency}\")"
   ]
  },
  {
   "cell_type": "code",
   "execution_count": null,
   "id": "2d466494-b181-4d07-a8a4-550cafaa09c1",
   "metadata": {},
   "outputs": [],
   "source": []
  },
  {
   "cell_type": "markdown",
   "id": "bacbf65d-fdc9-4610-ac87-bacf76c9b23d",
   "metadata": {},
   "source": [
    "6️⃣ Practical Applications\n",
    "- Masking Sensitive Information"
   ]
  },
  {
   "cell_type": "code",
   "execution_count": 53,
   "id": "5efafaf4-6c1d-4aca-abec-d7e6ba401709",
   "metadata": {},
   "outputs": [],
   "source": [
    "text = \"Order 12345 costs $500. Contact: +123-456-7890\"\n"
   ]
  },
  {
   "cell_type": "code",
   "execution_count": 54,
   "id": "3c2e0724-c0b3-48ec-ac3c-ce5d4df988d9",
   "metadata": {},
   "outputs": [],
   "source": [
    "secure_text = text.replace(\"12345\", \"*****\").replace(\"+123-456-7890\", \"Hidden\")"
   ]
  },
  {
   "cell_type": "code",
   "execution_count": 55,
   "id": "58eb2f74-ec72-4dee-8bb7-876a0c1df663",
   "metadata": {},
   "outputs": [
    {
     "name": "stdout",
     "output_type": "stream",
     "text": [
      "Secure Text: Order ***** costs $500. Contact: Hidden\n"
     ]
    }
   ],
   "source": [
    "print(f\"Secure Text: {secure_text}\")"
   ]
  },
  {
   "cell_type": "markdown",
   "id": "eac6071b-b7c1-4b67-8e58-5bf1685681aa",
   "metadata": {},
   "source": [
    "- Formatting Prices"
   ]
  },
  {
   "cell_type": "code",
   "execution_count": 56,
   "id": "a9df00eb-46fc-40e5-9d12-30499c54f861",
   "metadata": {},
   "outputs": [],
   "source": [
    "prices = [100, 200, 300]\n",
    "\n",
    "formatted_prices = \" | \".join([f\"${price}\" for price in prices])\n"
   ]
  },
  {
   "cell_type": "code",
   "execution_count": 57,
   "id": "06080930-3b2f-4eb9-b8a7-d363b77f4ca5",
   "metadata": {},
   "outputs": [
    {
     "name": "stdout",
     "output_type": "stream",
     "text": [
      "Prices: $100 | $200 | $300\n"
     ]
    }
   ],
   "source": [
    "print(f\"Prices: {formatted_prices}\")"
   ]
  },
  {
   "cell_type": "markdown",
   "id": "6feb1a73-8146-4d56-bfa5-9226362cf334",
   "metadata": {},
   "source": [
    "## Summary\n",
    "*In this episode, we explored three essential Python string methods:** join, replace, and split.** These tools are vital for:*\n",
    "\n",
    "- Combining and formatting text.\n",
    "- Replacing and transforming characters or words.\n",
    "- Splitting text into meaningful parts.\n",
    "  \n",
    "**By mastering these methods, you can efficiently handle text data, a crucial skill for any Python developer.**"
   ]
  },
  {
   "cell_type": "code",
   "execution_count": null,
   "id": "16add351-109c-4b11-b292-b7f0a0a5db3d",
   "metadata": {},
   "outputs": [],
   "source": []
  }
 ],
 "metadata": {
  "kernelspec": {
   "display_name": "Python (Abdullah)",
   "language": "python",
   "name": "abdullah"
  },
  "language_info": {
   "codemirror_mode": {
    "name": "ipython",
    "version": 3
   },
   "file_extension": ".py",
   "mimetype": "text/x-python",
   "name": "python",
   "nbconvert_exporter": "python",
   "pygments_lexer": "ipython3",
   "version": "3.12.2"
  }
 },
 "nbformat": 4,
 "nbformat_minor": 5
}
