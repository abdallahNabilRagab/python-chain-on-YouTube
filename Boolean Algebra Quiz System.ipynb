{
 "cells": [
  {
   "cell_type": "markdown",
   "id": "0d9afa1a-7253-455e-8d2d-cef39565f5db",
   "metadata": {},
   "source": [
    "## Mini Project: Boolean Algebra Quiz System\n",
    "\n",
    "* Objective:\n",
    "- Create a simple interactive quiz system using input, output, and type casting to demonstrate Boolean logic.\n",
    "\n",
    "* Description:\n",
    "- The project will ask the user a series of True/False questions about Boolean algebra and validate their responses using comparisons and logical operators.\n",
    "\n",
    "- Code Implementation:"
   ]
  },
  {
   "cell_type": "markdown",
   "id": "a2419b60-7bc6-42f1-8188-3f3c84407349",
   "metadata": {},
   "source": [
    "### Boolean Algebra Quiz System\n"
   ]
  },
  {
   "cell_type": "code",
   "execution_count": 1,
   "id": "e4dd6fc6-0bea-4664-a3a0-f2a44b157033",
   "metadata": {},
   "outputs": [
    {
     "name": "stdout",
     "output_type": "stream",
     "text": [
      "Welcome to the Boolean Algebra Quiz!\n"
     ]
    }
   ],
   "source": [
    "print(\"Welcome to the Boolean Algebra Quiz!\")\n"
   ]
  },
  {
   "cell_type": "code",
   "execution_count": null,
   "id": "33645eee-0297-47b6-a8c6-b02f237184cf",
   "metadata": {},
   "outputs": [],
   "source": []
  },
  {
   "cell_type": "code",
   "execution_count": 3,
   "id": "56948ee0-b9ac-401f-ab9e-8ed5099cadba",
   "metadata": {},
   "outputs": [
    {
     "name": "stdin",
     "output_type": "stream",
     "text": [
      "Q1: Is 5 > 3 and 2 < 4 ? (True/False): True\n"
     ]
    }
   ],
   "source": [
    "answer1 = input(\"Q1: Is 5 > 3 and 2 < 4 ? (True/False):\")"
   ]
  },
  {
   "cell_type": "code",
   "execution_count": 4,
   "id": "282d914d-b97b-4250-991f-2f5fce13530c",
   "metadata": {},
   "outputs": [
    {
     "name": "stdin",
     "output_type": "stream",
     "text": [
      "Q1: Is 5 > 3 and 2 < 4 ? (True/False): False\n"
     ]
    }
   ],
   "source": [
    "answer1 = input(\"Q1: Is 5 > 3 and 2 < 4 ? (True/False):\")"
   ]
  },
  {
   "cell_type": "code",
   "execution_count": 5,
   "id": "2cffcffc-1708-4a24-b78c-05ee6f352c3a",
   "metadata": {},
   "outputs": [
    {
     "name": "stdin",
     "output_type": "stream",
     "text": [
      "Q1: Is 5 > 3 and 2 < 4 ? (True/False):      True\n"
     ]
    }
   ],
   "source": [
    "answer1 = input(\"Q1: Is 5 > 3 and 2 < 4 ? (True/False):\")"
   ]
  },
  {
   "cell_type": "code",
   "execution_count": 6,
   "id": "41ab1140-4fd1-46b7-aef6-bd89705eb8cb",
   "metadata": {},
   "outputs": [],
   "source": [
    "answer1 = answer1.strip().capitalize() == \"True\""
   ]
  },
  {
   "cell_type": "code",
   "execution_count": 7,
   "id": "2f34fbce-1786-4109-9c75-d870592700e3",
   "metadata": {},
   "outputs": [],
   "source": [
    "correct1 = (5 > 3 and 2 < 4)"
   ]
  },
  {
   "cell_type": "code",
   "execution_count": 8,
   "id": "8a6d7caf-57d4-46ca-b20e-b3572d653a8d",
   "metadata": {},
   "outputs": [
    {
     "name": "stdout",
     "output_type": "stream",
     "text": [
      "Your answer is :True\n"
     ]
    }
   ],
   "source": [
    "print(f\"Your answer is :{answer1}\")"
   ]
  },
  {
   "cell_type": "code",
   "execution_count": 9,
   "id": "1bbf8a48-01df-4b9f-bb3b-4046eab2eeb5",
   "metadata": {},
   "outputs": [
    {
     "name": "stdout",
     "output_type": "stream",
     "text": [
      "Correct answer:True\n"
     ]
    }
   ],
   "source": [
    "print(f\"Correct answer:{correct1}\")"
   ]
  },
  {
   "cell_type": "code",
   "execution_count": 10,
   "id": "03d151d3-6b00-4f74-a1e2-d1be2b96c933",
   "metadata": {},
   "outputs": [
    {
     "name": "stdout",
     "output_type": "stream",
     "text": [
      "Result:Correct\n",
      "\n"
     ]
    }
   ],
   "source": [
    "print(f\"Result:{'Correct' if answer1 == correct1  else 'Incorrect'}\\n\")"
   ]
  },
  {
   "cell_type": "code",
   "execution_count": 12,
   "id": "7e0731d7-e39f-4c8b-ab6c-ef38a00dc212",
   "metadata": {},
   "outputs": [
    {
     "name": "stdin",
     "output_type": "stream",
     "text": [
      "Q1: Is 5 > 3 and 2 < 4 ? (True/False):    true \n"
     ]
    },
    {
     "name": "stdout",
     "output_type": "stream",
     "text": [
      "Your answer is :True\n",
      "Correct answer:True\n",
      "Result:Correct\n",
      "\n"
     ]
    }
   ],
   "source": [
    "answer1 = input(\"Q1: Is 5 > 3 and 2 < 4 ? (True/False):\")\n",
    "answer1 = answer1.strip().capitalize() == \"True\"\n",
    "correct1 = (5 > 3 and 2 < 4)\n",
    "print(f\"Your answer is :{answer1}\")\n",
    "print(f\"Correct answer:{correct1}\")\n",
    "print(f\"Result:{'Correct' if answer1 == correct1  else 'Incorrect'}\\n\")"
   ]
  },
  {
   "cell_type": "code",
   "execution_count": 13,
   "id": "209ba02e-f017-4753-b7b1-3ad35b2c05e8",
   "metadata": {},
   "outputs": [
    {
     "name": "stdin",
     "output_type": "stream",
     "text": [
      "Q1: Is 2 > 3 and 2 < 4 ? (True/False):  true\n"
     ]
    },
    {
     "name": "stdout",
     "output_type": "stream",
     "text": [
      "Your answer is :True\n",
      "Correct answer:False\n",
      "Result:Incorrect\n",
      "\n"
     ]
    }
   ],
   "source": [
    "answer1 = input(\"Q1: Is 2 > 3 and 2 < 4 ? (True/False):\")\n",
    "answer1 = answer1.strip().capitalize() == \"True\"\n",
    "correct1 = (2 > 3 and 2 < 4)\n",
    "print(f\"Your answer is :{answer1}\")\n",
    "print(f\"Correct answer:{correct1}\")\n",
    "print(f\"Result:{'Correct' if answer1 == correct1  else 'Incorrect'}\\n\")"
   ]
  },
  {
   "cell_type": "code",
   "execution_count": 14,
   "id": "c26a1f58-7b1c-4de5-80b0-cbe9a34f894a",
   "metadata": {},
   "outputs": [
    {
     "name": "stdin",
     "output_type": "stream",
     "text": [
      "Q2: Is not (5 == 5 or 3 > 8)? (True/False):  true\n"
     ]
    },
    {
     "name": "stdout",
     "output_type": "stream",
     "text": [
      "Your answer is: True\n",
      "Correct answer: False\n",
      "Result: Incorrect\n",
      "\n"
     ]
    }
   ],
   "source": [
    "# Question 2\n",
    "answer2 = input(\"Q2: Is not (5 == 5 or 3 > 8)? (True/False): \")\n",
    "answer2 = answer2.strip().capitalize() == \"True\"\n",
    "correct2 = not (5 == 5 or 3 > 8)\n",
    "print(f\"Your answer is: {answer2}\")\n",
    "print(f\"Correct answer: {correct2}\")\n",
    "print(f\"Result: {'Correct' if answer2 == correct2 else 'Incorrect'}\\n\")\n"
   ]
  },
  {
   "cell_type": "code",
   "execution_count": 15,
   "id": "89995f7c-9e61-45ce-9bfe-58f60889c893",
   "metadata": {},
   "outputs": [
    {
     "name": "stdin",
     "output_type": "stream",
     "text": [
      "Q3: Is 10 <= 20 and 15 != 10? (True/False):   false\n"
     ]
    },
    {
     "name": "stdout",
     "output_type": "stream",
     "text": [
      "Your answer is: False\n",
      "Correct answer: True\n",
      "Result: Incorrect\n",
      "\n"
     ]
    }
   ],
   "source": [
    "# Question 3\n",
    "answer3 = input(\"Q3: Is 10 <= 20 and 15 != 10? (True/False): \")\n",
    "answer3 = answer3.strip().capitalize() == \"True\"\n",
    "correct3 = (10 <= 20 and 15 != 10)\n",
    "print(f\"Your answer is: {answer3}\")\n",
    "print(f\"Correct answer: {correct3}\")\n",
    "print(f\"Result: {'Correct' if answer3 == correct3 else 'Incorrect'}\\n\")\n"
   ]
  },
  {
   "cell_type": "code",
   "execution_count": 16,
   "id": "5677239b-73dd-4484-9d3e-e5f55971a3fc",
   "metadata": {},
   "outputs": [
    {
     "name": "stdout",
     "output_type": "stream",
     "text": [
      "You scored 0/3 correct answers. Great job!\n"
     ]
    }
   ],
   "source": [
    "# Final Result\n",
    "score = sum([answer1 == correct1, answer2 == correct2, answer3 == correct3])\n",
    "print(f\"You scored {score}/3 correct answers. Great job!\")"
   ]
  },
  {
   "cell_type": "code",
   "execution_count": null,
   "id": "20d123a3-1252-4cae-8bb9-d7055c8d1b8e",
   "metadata": {},
   "outputs": [],
   "source": []
  },
  {
   "cell_type": "code",
   "execution_count": null,
   "id": "6a7489ce-3aee-47a9-9c02-0295c376244a",
   "metadata": {},
   "outputs": [],
   "source": []
  },
  {
   "cell_type": "code",
   "execution_count": null,
   "id": "41e88a43-1802-4624-8c45-39b2dbaaa2ae",
   "metadata": {},
   "outputs": [],
   "source": []
  },
  {
   "cell_type": "code",
   "execution_count": null,
   "id": "618b3e87-0a48-4ab2-bdb3-e64fea04b6a8",
   "metadata": {},
   "outputs": [],
   "source": []
  },
  {
   "cell_type": "code",
   "execution_count": null,
   "id": "7e999e88-d7cf-4a59-a91d-ca55edcf9a1a",
   "metadata": {},
   "outputs": [],
   "source": [
    "\n",
    "\n",
    "\n",
    "\n"
   ]
  },
  {
   "cell_type": "code",
   "execution_count": null,
   "id": "c0290b72-2279-4441-aad7-ea07b15d7383",
   "metadata": {},
   "outputs": [],
   "source": []
  },
  {
   "cell_type": "code",
   "execution_count": null,
   "id": "e3193132-7eca-4740-be21-1489be030151",
   "metadata": {},
   "outputs": [],
   "source": []
  },
  {
   "cell_type": "code",
   "execution_count": null,
   "id": "0d332640-bb1e-416e-ab27-7fbdcda68037",
   "metadata": {},
   "outputs": [],
   "source": []
  },
  {
   "cell_type": "code",
   "execution_count": null,
   "id": "a4eeb070-8c05-4311-9b1a-ffcc39edf65c",
   "metadata": {},
   "outputs": [],
   "source": []
  },
  {
   "cell_type": "code",
   "execution_count": null,
   "id": "dce96a45-d752-4832-90ef-293489b4c414",
   "metadata": {},
   "outputs": [],
   "source": []
  }
 ],
 "metadata": {
  "kernelspec": {
   "display_name": "Python (Abdullah)",
   "language": "python",
   "name": "abdullah"
  },
  "language_info": {
   "codemirror_mode": {
    "name": "ipython",
    "version": 3
   },
   "file_extension": ".py",
   "mimetype": "text/x-python",
   "name": "python",
   "nbconvert_exporter": "python",
   "pygments_lexer": "ipython3",
   "version": "3.12.2"
  }
 },
 "nbformat": 4,
 "nbformat_minor": 5
}
