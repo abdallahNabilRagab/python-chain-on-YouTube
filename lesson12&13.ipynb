{
 "cells": [
  {
   "cell_type": "markdown",
   "id": "26d5ecec-6dd7-4150-b756-84fb797cc54d",
   "metadata": {},
   "source": [
    " # **1. Numbers**  \n",
    "## **A. Integer**  \n",
    "- Used to store whole numbers without any decimal points.  \n",
    "- Example:  \n",
    "  ```python\n",
    "  age = 30  # Integer  \n",
    "  print(type(age))  # Output: <class 'int'>"
   ]
  },
  {
   "cell_type": "code",
   "execution_count": 3,
   "id": "a93f2aea-fb71-46a6-bff8-8b0169e1c718",
   "metadata": {},
   "outputs": [],
   "source": [
    "age = 25"
   ]
  },
  {
   "cell_type": "code",
   "execution_count": 4,
   "id": "b042980a-d349-4c3b-8546-b6065199f72d",
   "metadata": {},
   "outputs": [
    {
     "name": "stdout",
     "output_type": "stream",
     "text": [
      "25\n"
     ]
    }
   ],
   "source": [
    "print(age)"
   ]
  },
  {
   "cell_type": "code",
   "execution_count": 5,
   "id": "61d7ebfb-426c-40c5-b904-3842f497f2fe",
   "metadata": {},
   "outputs": [
    {
     "name": "stdout",
     "output_type": "stream",
     "text": [
      "<class 'int'>\n"
     ]
    }
   ],
   "source": [
    "print(type(age))"
   ]
  },
  {
   "cell_type": "markdown",
   "id": "32698229-6062-42ef-95cc-01dab19bc5a9",
   "metadata": {},
   "source": [
    "\n",
    "# **B. Float**  \n",
    " - Used to store numbers that have decimal points or fractions.  \n",
    " - Example:\n",
    "   ```python\n",
    "   pi = 3.14  # Float  \n",
    "   print(type(pi))  # Output: <class 'float'>"
   ]
  },
  {
   "cell_type": "code",
   "execution_count": 7,
   "id": "8d0a7c0d-0a06-4041-a839-b68f82029c5e",
   "metadata": {},
   "outputs": [],
   "source": [
    "pi = 3.18"
   ]
  },
  {
   "cell_type": "code",
   "execution_count": 8,
   "id": "2d375041-0ae5-488a-b751-f876dadcc2ef",
   "metadata": {},
   "outputs": [
    {
     "name": "stdout",
     "output_type": "stream",
     "text": [
      "3.18\n"
     ]
    }
   ],
   "source": [
    "print(pi)"
   ]
  },
  {
   "cell_type": "code",
   "execution_count": 9,
   "id": "448b732c-21cb-4292-84b4-d6cf1ea48960",
   "metadata": {},
   "outputs": [
    {
     "name": "stdout",
     "output_type": "stream",
     "text": [
      "<class 'float'>\n"
     ]
    }
   ],
   "source": [
    "print(type(pi))"
   ]
  },
  {
   "cell_type": "markdown",
   "id": "a36d6a39-8b79-4bde-9203-ad7daeac4633",
   "metadata": {},
   "source": [
    "# **2. String**  \n",
    " - Used to store sequences of characters (text).  \n",
    " - Example: \n",
    "   ```python\n",
    "    name = \"Alice\"  # String  \n",
    "    print(type(name))  # Output: <class 'str'>"
   ]
  },
  {
   "cell_type": "code",
   "execution_count": 10,
   "id": "577dd7a5-b42c-4c95-8b0f-1aa03628892f",
   "metadata": {},
   "outputs": [],
   "source": [
    "name = \"Abdullah\""
   ]
  },
  {
   "cell_type": "code",
   "execution_count": 11,
   "id": "8eec3fff-0436-4921-af46-e59885ae1b6f",
   "metadata": {},
   "outputs": [
    {
     "name": "stdout",
     "output_type": "stream",
     "text": [
      "Abdullah\n"
     ]
    }
   ],
   "source": [
    "print(name)"
   ]
  },
  {
   "cell_type": "code",
   "execution_count": 12,
   "id": "b157ae50-2c51-4aa0-a24a-6ebad8fcff20",
   "metadata": {},
   "outputs": [
    {
     "name": "stdout",
     "output_type": "stream",
     "text": [
      "<class 'str'>\n"
     ]
    }
   ],
   "source": [
    "print(type(name))"
   ]
  },
  {
   "cell_type": "markdown",
   "id": "a1122203-6fb5-4c9e-8b1c-22c4193f7a07",
   "metadata": {},
   "source": [
    "\n",
    "# **3. Boolean**  \n",
    " - Used to store logical values: either True or False.  \n",
    " - Example:  \n",
    "   ```python  \n",
    "    is_student = True  # Boolean  \n",
    "    print(type(is_student))  # Output: <class 'bool'>"
   ]
  },
  {
   "cell_type": "code",
   "execution_count": 13,
   "id": "af8d3323-0031-48ff-be5b-c23cb4a3a7c3",
   "metadata": {},
   "outputs": [],
   "source": [
    "is_stud = True"
   ]
  },
  {
   "cell_type": "code",
   "execution_count": 14,
   "id": "d7e03a77-6334-4eb8-8389-09a0196ebacf",
   "metadata": {},
   "outputs": [
    {
     "name": "stdout",
     "output_type": "stream",
     "text": [
      "<class 'bool'>\n"
     ]
    }
   ],
   "source": [
    "print(type(is_stud))"
   ]
  },
  {
   "cell_type": "markdown",
   "id": "35795b59-19c8-450e-9db5-e8a51865ace4",
   "metadata": {},
   "source": [
    "# **4. List**  \n",
    " - Used to store a collection of values in a specific order.  \n",
    " - Example:\n",
    "   ```python\n",
    "    fruits = [\"Apple\", \"Banana\", \"Cherry\"]  # List  \n",
    "    print(type(fruits))  # Output: <class 'list'>"
   ]
  },
  {
   "cell_type": "code",
   "execution_count": 15,
   "id": "fd7fc3a3-85b0-436f-84c4-65241983643f",
   "metadata": {},
   "outputs": [],
   "source": [
    "fruits = [\"Apple\" , \"Banana\", \"Cherry\"]"
   ]
  },
  {
   "cell_type": "code",
   "execution_count": 16,
   "id": "e6c9e69d-1cd0-46e5-946f-866055a5d493",
   "metadata": {},
   "outputs": [
    {
     "name": "stdout",
     "output_type": "stream",
     "text": [
      "<class 'list'>\n"
     ]
    }
   ],
   "source": [
    "print(type(fruits))"
   ]
  },
  {
   "cell_type": "markdown",
   "id": "cbcc5175-3604-445a-984b-a3394074eb03",
   "metadata": {},
   "source": [
    "# **5. Dictionary**  \n",
    " - Used to store data in a key-value pair format.  \n",
    " - Example:\n",
    "   ```python\n",
    "    person = {\"name\": \"John\", \"age\": 30}  # Dictionary  \n",
    "    print(type(person))  # Output: <class 'dict'>\n"
   ]
  },
  {
   "cell_type": "code",
   "execution_count": 20,
   "id": "b0875c79-b531-4b0d-9f49-228106707821",
   "metadata": {},
   "outputs": [],
   "source": [
    "cv = {\"name\": 'fatma' ,\"age\": 20 }"
   ]
  },
  {
   "cell_type": "code",
   "execution_count": 21,
   "id": "2a0fc4c2-f744-477c-9bd1-6ee9a10b25ec",
   "metadata": {},
   "outputs": [
    {
     "name": "stdout",
     "output_type": "stream",
     "text": [
      "<class 'dict'>\n"
     ]
    }
   ],
   "source": [
    "print(type(cv))"
   ]
  },
  {
   "cell_type": "markdown",
   "id": "28329c52-131d-4884-857a-933dc942b3cf",
   "metadata": {},
   "source": [
    "# **6. Set**  \n",
    " - Used to store unique values with no duplicates.  \n",
    " - Example:\n",
    "   ```python\n",
    "    unique_numbers = {1, 2, 3, 3, 4}  # Set  \n",
    "    print(unique_numbers)  # Output: {1, 2, 3, 4}"
   ]
  },
  {
   "cell_type": "code",
   "execution_count": 22,
   "id": "ed69ecec-fb45-4fad-99b6-f5c7262c7b2e",
   "metadata": {},
   "outputs": [],
   "source": [
    "unique_numbers = {1, 2, 3, 3, 4}"
   ]
  },
  {
   "cell_type": "code",
   "execution_count": 23,
   "id": "34278df7-dbbc-45c5-ba1b-db29064e94c4",
   "metadata": {},
   "outputs": [
    {
     "name": "stdout",
     "output_type": "stream",
     "text": [
      "<class 'set'>\n"
     ]
    }
   ],
   "source": [
    "print(type(unique_numbers))"
   ]
  },
  {
   "cell_type": "markdown",
   "id": "9e29b259-a524-4ac5-97d2-c40e7a68ff68",
   "metadata": {},
   "source": [
    "# **7. Tuple**  \n",
    " - Used to store an ordered collection of values that cannot be modified.  \n",
    " - Example: \n",
    "   ```python\n",
    "    dimensions = (1920, 1080)  # Tuple  \n",
    "    print(type(dimensions))  # Output: <class 'tuple'>"
   ]
  },
  {
   "cell_type": "code",
   "execution_count": 24,
   "id": "f8bc6d62-1616-469d-a03c-bc1508626343",
   "metadata": {},
   "outputs": [],
   "source": [
    "dimensions = (1920, 1080)"
   ]
  },
  {
   "cell_type": "code",
   "execution_count": 25,
   "id": "8c9a0c95-4a9c-4226-9e35-027883c167b1",
   "metadata": {},
   "outputs": [
    {
     "name": "stdout",
     "output_type": "stream",
     "text": [
      "<class 'tuple'>\n"
     ]
    }
   ],
   "source": [
    "print(type(dimensions))"
   ]
  },
  {
   "cell_type": "markdown",
   "id": "830c87a3-2236-47cf-a130-8848b1745bb2",
   "metadata": {},
   "source": [
    "# **8. NoneType**  \n",
    " - Represents a null or empty value.  \n",
    " - Example:\n",
    "   ```python\n",
    "    result = None  # NoneType  \n",
    "    print(type(result))  # Output: <class 'NoneType'>\n"
   ]
  },
  {
   "cell_type": "code",
   "execution_count": 26,
   "id": "b07f75dd-6510-4fa8-8817-2608dc6b4860",
   "metadata": {},
   "outputs": [],
   "source": [
    "result = None"
   ]
  },
  {
   "cell_type": "code",
   "execution_count": 27,
   "id": "510f19d9-c054-4b66-9f61-bc87367e1a5e",
   "metadata": {},
   "outputs": [
    {
     "name": "stdout",
     "output_type": "stream",
     "text": [
      "<class 'NoneType'>\n"
     ]
    }
   ],
   "source": [
    "print(type(result)) "
   ]
  },
  {
   "cell_type": "markdown",
   "id": "8839ac5b-700c-4f5c-ab58-af7bc6356cea",
   "metadata": {},
   "source": [
    "# 1. Headings"
   ]
  },
  {
   "cell_type": "markdown",
   "id": "66199156-1795-4bb6-9bab-485d795d1681",
   "metadata": {},
   "source": [
    "# Main Heading (H1)\n",
    "## Subheading (H2)\n",
    "### Smaller Subheading (H3)\n",
    "#### Even Smaller Subheading (H4)\n",
    "##### Very Small Heading (H5)\n",
    "###### Smallest Heading (H6)\n"
   ]
  },
  {
   "cell_type": "code",
   "execution_count": null,
   "id": "0ec531f5-dbbd-4b3a-954c-55c93c97d8a2",
   "metadata": {},
   "outputs": [],
   "source": []
  },
  {
   "cell_type": "markdown",
   "id": "c54437b9-a249-4c56-a625-f365cc5050db",
   "metadata": {},
   "source": [
    "# 2. Bold Text"
   ]
  },
  {
   "cell_type": "markdown",
   "id": "eff914b5-81ee-49a3-a9e4-e95a214af411",
   "metadata": {},
   "source": [
    "**This is bold text**\n",
    "__This is also bold text__\n"
   ]
  },
  {
   "cell_type": "markdown",
   "id": "d7186bd5-b1d1-4b1c-af53-9874e663c9ec",
   "metadata": {},
   "source": [
    "message = \"**Hello World**\"  # Bold text\n",
    "print(message)\n"
   ]
  },
  {
   "cell_type": "code",
   "execution_count": null,
   "id": "ccbd802d-3d01-408b-a062-36867d5208a8",
   "metadata": {},
   "outputs": [],
   "source": []
  },
  {
   "cell_type": "markdown",
   "id": "8be22de0-66ff-486a-bbeb-f84cf86de32f",
   "metadata": {},
   "source": [
    "# 3. Italic Text"
   ]
  },
  {
   "cell_type": "markdown",
   "id": "84e74b06-026b-45ab-9e53-50447144a447",
   "metadata": {},
   "source": [
    "*This is italic text*\n",
    "_This is also italic text_\n"
   ]
  },
  {
   "cell_type": "markdown",
   "id": "e92b1e02-7fc2-47aa-9b85-85423b16afd3",
   "metadata": {},
   "source": [
    "message = \"*Hello World*\"  # Italic text\n",
    "print(message)\n"
   ]
  },
  {
   "cell_type": "markdown",
   "id": "511e2ce2-710b-43bd-b0a1-3e53fffc291e",
   "metadata": {},
   "source": [
    "# 4. Bold and Italic Text"
   ]
  },
  {
   "cell_type": "markdown",
   "id": "5ca17537-9eb5-4618-b59b-4cd185b53cad",
   "metadata": {},
   "source": [
    "***This is bold and italic text***\n",
    "___This is also bold and italic text___\n"
   ]
  },
  {
   "cell_type": "markdown",
   "id": "49aed5d7-fbfc-4c29-aac7-89181c1a09b1",
   "metadata": {},
   "source": [
    "message = \"***Hello World***\"  # Bold and italic text\n",
    "print(message)\n"
   ]
  },
  {
   "cell_type": "code",
   "execution_count": null,
   "id": "857ac027-5f43-401a-87a2-1647026e3944",
   "metadata": {},
   "outputs": [],
   "source": []
  },
  {
   "cell_type": "markdown",
   "id": "6f1adaf8-1056-49e2-83a2-11414b1d478e",
   "metadata": {},
   "source": [
    "# 5. Strikethrough Text"
   ]
  },
  {
   "cell_type": "markdown",
   "id": "4df244a6-8864-4e67-8abf-3afeca4e551b",
   "metadata": {},
   "source": [
    "~~This is strikethrough text~~\n"
   ]
  },
  {
   "cell_type": "markdown",
   "id": "f16dcced-f30d-44c9-bdb5-2fd96602b2d7",
   "metadata": {},
   "source": [
    "message = \"~~Hello World~~\"  # Strikethrough text\n",
    "print(message)\n"
   ]
  },
  {
   "cell_type": "code",
   "execution_count": null,
   "id": "e7c19a53-b76b-41c7-9570-45e1b7fea6a9",
   "metadata": {},
   "outputs": [],
   "source": []
  },
  {
   "cell_type": "markdown",
   "id": "f683b95c-2230-456e-b69d-e3c458c8786c",
   "metadata": {},
   "source": [
    "# 6. Lists"
   ]
  },
  {
   "cell_type": "markdown",
   "id": "3cd810d1-18c1-44f9-b97c-475e920dcfb9",
   "metadata": {},
   "source": [
    "- Item 1\n",
    "* Item 2\n",
    "+ Item 3\n"
   ]
  },
  {
   "cell_type": "markdown",
   "id": "ffae353a-fbf3-4528-947e-c6c00b4575fc",
   "metadata": {},
   "source": [
    "items = [\"Item 1\", \"Item 2\", \"Item 3\"]  # Unordered list\n",
    "print(items)\n"
   ]
  },
  {
   "cell_type": "markdown",
   "id": "9e34ae1e-a183-4e60-9542-92f417b17fe5",
   "metadata": {},
   "source": [
    "- Ordered Lists: Use numbers followed by a period to create ordered lists.\n"
   ]
  },
  {
   "cell_type": "markdown",
   "id": "f7f27379-c967-47ca-b11e-0ab52199e0b3",
   "metadata": {},
   "source": [
    "1. Item 1\n",
    "2. Item 2\n",
    "3. Item 3\n"
   ]
  },
  {
   "cell_type": "markdown",
   "id": "9cac2a12-8d27-482c-b45b-9cbca40cd820",
   "metadata": {},
   "source": [
    "items = [1, 2, 3]  # Ordered list\n",
    "print(items)\n"
   ]
  },
  {
   "cell_type": "markdown",
   "id": "9f5f24fd-ba30-4c1b-ae31-4c50dc38dced",
   "metadata": {},
   "source": [
    "# 7. Links"
   ]
  },
  {
   "cell_type": "markdown",
   "id": "cac2c40b-b2e9-40f1-8f75-dc92e6db15c9",
   "metadata": {},
   "source": [
    "[Visit Example Website](https://www.example.com)\n"
   ]
  },
  {
   "cell_type": "markdown",
   "id": "7d2d8c62-ad73-403a-897b-f71c8e22286e",
   "metadata": {},
   "source": [
    "link = \"[Visit Example Website](https://www.example.com)\"  # Link\n",
    "print(link)\n"
   ]
  },
  {
   "cell_type": "code",
   "execution_count": null,
   "id": "2c710c67-fc50-401f-be39-3385df39cc7c",
   "metadata": {},
   "outputs": [],
   "source": []
  },
  {
   "cell_type": "markdown",
   "id": "c9715757-d6a1-45da-ab3c-c4d60f3409bb",
   "metadata": {},
   "source": [
    "# 8. Images"
   ]
  },
  {
   "cell_type": "markdown",
   "id": "5e5c406d-688d-4d90-a56f-1f82e3447036",
   "metadata": {},
   "source": [
    "![Alt text](https://www.example.com/image.jpg)\n"
   ]
  },
  {
   "cell_type": "markdown",
   "id": "c4cdee1e-e94b-4dab-b475-154ccada4987",
   "metadata": {},
   "source": [
    "image = \"![Alt text](https://www.example.com/image.jpg)\"  # Image\n",
    "print(image)\n"
   ]
  },
  {
   "cell_type": "code",
   "execution_count": null,
   "id": "66752474-b386-4e2f-bd90-b405e9c1757b",
   "metadata": {},
   "outputs": [],
   "source": []
  },
  {
   "cell_type": "markdown",
   "id": "f474361e-f4b8-4a09-81dc-d6f60b89b43a",
   "metadata": {},
   "source": [
    "# 9. Inline Code"
   ]
  },
  {
   "cell_type": "markdown",
   "id": "759c927b-d590-48bc-8479-b7091f2262b8",
   "metadata": {},
   "source": [
    "`print(\"Hello World\")`  # Inline code\n"
   ]
  },
  {
   "cell_type": "markdown",
   "id": "47730163-8de2-439c-931b-5dcc81c8c143",
   "metadata": {},
   "source": [
    "code = \"`print('Hello World')`\"  # Inline code\n",
    "print(code)\n"
   ]
  },
  {
   "cell_type": "markdown",
   "id": "d55ff7f8-85c8-4371-83e3-b1179ba9d670",
   "metadata": {},
   "source": [
    "# 10. Code Block\n"
   ]
  },
  {
   "cell_type": "markdown",
   "id": "45446110-6878-477a-9e57-44c32d5b5dc0",
   "metadata": {},
   "source": [
    "- For multiple lines of code, use triple backticks to define a block of code.\n",
    "\n"
   ]
  },
  {
   "cell_type": "markdown",
   "id": "83ab0a6b-2e5f-4e54-93cf-efdfbe11093e",
   "metadata": {},
   "source": [
    "code_block = '''\n",
    "print(\"Hello World\")\n",
    "'''  # Code block\n",
    "print(code_block)\n"
   ]
  },
  {
   "cell_type": "code",
   "execution_count": null,
   "id": "5ddf53d8-2148-419f-884d-3a98bdc4d964",
   "metadata": {},
   "outputs": [],
   "source": []
  },
  {
   "cell_type": "markdown",
   "id": "881a71a9-be75-4830-8979-5485854ee4e5",
   "metadata": {},
   "source": [
    "# 11. Blockquotes\n"
   ]
  },
  {
   "cell_type": "markdown",
   "id": "d3400740-fb79-4620-a4d1-d86313cb588c",
   "metadata": {},
   "source": [
    "- Used to indicate a quoted section of text with >.\n",
    "\n"
   ]
  },
  {
   "cell_type": "markdown",
   "id": "da0a353d-b127-4662-91c0-2776770f4402",
   "metadata": {},
   "source": [
    "> This is a blockquote.\n"
   ]
  },
  {
   "cell_type": "markdown",
   "id": "7e26af0e-6937-42e7-aea9-5737a4836473",
   "metadata": {},
   "source": [
    "quote = \"> This is a blockquote.\"  # Blockquote\n",
    "print(quote)\n"
   ]
  },
  {
   "cell_type": "code",
   "execution_count": null,
   "id": "93f9ddcd-e6b0-4b5e-81d2-120dc7451af5",
   "metadata": {},
   "outputs": [],
   "source": []
  },
  {
   "cell_type": "markdown",
   "id": "a44bc883-d299-4901-8be7-094ad693186e",
   "metadata": {},
   "source": [
    "# 12. Horizontal Rule\n"
   ]
  },
  {
   "cell_type": "markdown",
   "id": "a826070b-2377-4a46-abca-13251bb5f3cc",
   "metadata": {},
   "source": [
    "---\n",
    "***\n",
    "___\n"
   ]
  },
  {
   "cell_type": "markdown",
   "id": "3108f35c-8180-4e89-978f-4b7b6abb8143",
   "metadata": {},
   "source": [
    "divider = \"---\"  # Horizontal rule\n",
    "print(divider)\n"
   ]
  },
  {
   "cell_type": "code",
   "execution_count": null,
   "id": "c66118f5-3893-4c9f-98f5-30f06facc05d",
   "metadata": {},
   "outputs": [],
   "source": []
  },
  {
   "cell_type": "markdown",
   "id": "5799cd52-d212-4dcb-9a4c-ff40c48eacd0",
   "metadata": {},
   "source": [
    "# 13. Tables\n"
   ]
  },
  {
   "cell_type": "markdown",
   "id": "2eead952-357e-45b4-ae2c-6003d7e408d5",
   "metadata": {},
   "source": [
    "- Tables can be created using | to separate columns and - to create borders.\n",
    "\n"
   ]
  },
  {
   "cell_type": "markdown",
   "id": "442a8fb1-0f78-4210-82a5-ba89d9c18196",
   "metadata": {},
   "source": [
    "| Name   | Age |\n",
    "|--------|-----|\n",
    "| Abdo   | 30  |\n",
    "| Aliaa  | 25  |\n"
   ]
  },
  {
   "cell_type": "markdown",
   "id": "5145d0bd-6e09-42a3-a00f-7dd50340966e",
   "metadata": {},
   "source": [
    "table = \"\"\"\n",
    "| Name   | Age |\n",
    "|--------|-----|\n",
    "| Abdo   | 30  |\n",
    "| Aliaa  | 25  |\n",
    "\"\"\"  # Table\n",
    "print(table)\n"
   ]
  },
  {
   "cell_type": "markdown",
   "id": "3ebe5ee5-37c8-4169-bb97-db716c029bc6",
   "metadata": {},
   "source": [
    "# 14. Comments\n"
   ]
  },
  {
   "cell_type": "markdown",
   "id": "89546f18-f43a-4ef4-8df0-7d25e8eba604",
   "metadata": {},
   "source": [
    "- This is a hidden comment\n",
    "> This is another comment\n"
   ]
  },
  {
   "cell_type": "markdown",
   "id": "c134939c-3db7-4e83-bc89-e4e84ae8f515",
   "metadata": {},
   "source": [
    "comment = \"- This is a hidden comment\"  # Comment\n",
    "print(comment)\n"
   ]
  },
  {
   "cell_type": "markdown",
   "id": "628829a0-d4b2-4d69-bdf4-5cfb9c3f7604",
   "metadata": {},
   "source": [
    "# 15. Reference Links\n"
   ]
  },
  {
   "cell_type": "markdown",
   "id": "0db3c11d-e2fb-4903-a7ad-78cc6c05b9ea",
   "metadata": {},
   "source": [
    "- You can add references using [text][id] and then define the reference elsewhere.\n",
    "\n"
   ]
  },
  {
   "cell_type": "markdown",
   "id": "45bc8435-5fd6-4f5f-a3f8-745d7f282d95",
   "metadata": {},
   "source": [
    "[Google]: https://www.google.com\n",
    "[Visit Google](Google)\n"
   ]
  },
  {
   "cell_type": "markdown",
   "id": "82f90228-5364-4b9b-83a6-70e0b679c8fd",
   "metadata": {},
   "source": [
    "reference = \"[Google]: https://www.google.com\"  # Reference link\n",
    "print(reference)\n"
   ]
  },
  {
   "cell_type": "code",
   "execution_count": null,
   "id": "1f794c27-ae90-461c-aeb5-25958c9030c2",
   "metadata": {},
   "outputs": [],
   "source": []
  }
 ],
 "metadata": {
  "kernelspec": {
   "display_name": "Python (Abdullah)",
   "language": "python",
   "name": "abdullah"
  },
  "language_info": {
   "codemirror_mode": {
    "name": "ipython",
    "version": 3
   },
   "file_extension": ".py",
   "mimetype": "text/x-python",
   "name": "python",
   "nbconvert_exporter": "python",
   "pygments_lexer": "ipython3",
   "version": "3.12.2"
  }
 },
 "nbformat": 4,
 "nbformat_minor": 5
}
